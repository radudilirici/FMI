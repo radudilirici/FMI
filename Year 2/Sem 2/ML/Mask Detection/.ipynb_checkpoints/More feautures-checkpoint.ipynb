{
 "cells": [
  {
   "cell_type": "code",
   "execution_count": 1,
   "metadata": {},
   "outputs": [
    {
     "name": "stderr",
     "output_type": "stream",
     "text": [
      "Using TensorFlow backend.\n"
     ]
    }
   ],
   "source": [
    "import matplotlib.pyplot as plt\n",
    "import numpy as np\n",
    "import librosa\n",
    "import os\n",
    "import pandas as pd\n",
    "from scipy.io import wavfile\n",
    "from itertools import islice\n",
    "import xgboost as xgb\n",
    "from tqdm import tqdm\n",
    "\n",
    "import keras\n",
    "from keras.utils import to_categorical\n",
    "from keras.models import Sequential\n",
    "from keras.layers import Dense, Dropout, Conv2D, Conv1D, MaxPool2D, MaxPool1D, Flatten, LSTM, TimeDistributed, BatchNormalization, GlobalAveragePooling2D\n",
    "from keras.metrics import categorical_accuracy"
   ]
  },
  {
   "cell_type": "code",
   "execution_count": 2,
   "metadata": {},
   "outputs": [
    {
     "name": "stdout",
     "output_type": "stream",
     "text": [
      "sample rate: 16000\n"
     ]
    }
   ],
   "source": [
    "train_path = 'train/train/'\n",
    "sample_rate, _ = wavfile.read('train/train/100001.wav')\n",
    "print(f'sample rate: {sample_rate}')"
   ]
  },
  {
   "cell_type": "code",
   "execution_count": 3,
   "metadata": {},
   "outputs": [
    {
     "data": {
      "text/html": [
       "<div>\n",
       "<style scoped>\n",
       "    .dataframe tbody tr th:only-of-type {\n",
       "        vertical-align: middle;\n",
       "    }\n",
       "\n",
       "    .dataframe tbody tr th {\n",
       "        vertical-align: top;\n",
       "    }\n",
       "\n",
       "    .dataframe thead th {\n",
       "        text-align: right;\n",
       "    }\n",
       "</style>\n",
       "<table border=\"1\" class=\"dataframe\">\n",
       "  <thead>\n",
       "    <tr style=\"text-align: right;\">\n",
       "      <th></th>\n",
       "      <th>sample</th>\n",
       "      <th>label</th>\n",
       "    </tr>\n",
       "  </thead>\n",
       "  <tbody>\n",
       "    <tr>\n",
       "      <th>0</th>\n",
       "      <td>102333.wav</td>\n",
       "      <td>1</td>\n",
       "    </tr>\n",
       "    <tr>\n",
       "      <th>1</th>\n",
       "      <td>103981.wav</td>\n",
       "      <td>1</td>\n",
       "    </tr>\n",
       "    <tr>\n",
       "      <th>2</th>\n",
       "      <td>100805.wav</td>\n",
       "      <td>0</td>\n",
       "    </tr>\n",
       "    <tr>\n",
       "      <th>3</th>\n",
       "      <td>105528.wav</td>\n",
       "      <td>1</td>\n",
       "    </tr>\n",
       "    <tr>\n",
       "      <th>4</th>\n",
       "      <td>104159.wav</td>\n",
       "      <td>0</td>\n",
       "    </tr>\n",
       "  </tbody>\n",
       "</table>\n",
       "</div>"
      ],
      "text/plain": [
       "       sample  label\n",
       "0  102333.wav      1\n",
       "1  103981.wav      1\n",
       "2  100805.wav      0\n",
       "3  105528.wav      1\n",
       "4  104159.wav      0"
      ]
     },
     "execution_count": 3,
     "metadata": {},
     "output_type": "execute_result"
    }
   ],
   "source": [
    "train_df = pd.read_csv('train.txt', header=None)\n",
    "train_df.columns = ['sample', 'label']\n",
    "train_df.head()"
   ]
  },
  {
   "cell_type": "code",
   "execution_count": 4,
   "metadata": {
    "scrolled": true
   },
   "outputs": [
    {
     "data": {
      "text/html": [
       "<div>\n",
       "<style scoped>\n",
       "    .dataframe tbody tr th:only-of-type {\n",
       "        vertical-align: middle;\n",
       "    }\n",
       "\n",
       "    .dataframe tbody tr th {\n",
       "        vertical-align: top;\n",
       "    }\n",
       "\n",
       "    .dataframe thead th {\n",
       "        text-align: right;\n",
       "    }\n",
       "</style>\n",
       "<table border=\"1\" class=\"dataframe\">\n",
       "  <thead>\n",
       "    <tr style=\"text-align: right;\">\n",
       "      <th></th>\n",
       "      <th>sample</th>\n",
       "      <th>label</th>\n",
       "    </tr>\n",
       "  </thead>\n",
       "  <tbody>\n",
       "    <tr>\n",
       "      <th>0</th>\n",
       "      <td>200104.wav</td>\n",
       "      <td>1</td>\n",
       "    </tr>\n",
       "    <tr>\n",
       "      <th>1</th>\n",
       "      <td>200866.wav</td>\n",
       "      <td>1</td>\n",
       "    </tr>\n",
       "    <tr>\n",
       "      <th>2</th>\n",
       "      <td>200922.wav</td>\n",
       "      <td>1</td>\n",
       "    </tr>\n",
       "    <tr>\n",
       "      <th>3</th>\n",
       "      <td>200336.wav</td>\n",
       "      <td>0</td>\n",
       "    </tr>\n",
       "    <tr>\n",
       "      <th>4</th>\n",
       "      <td>200070.wav</td>\n",
       "      <td>1</td>\n",
       "    </tr>\n",
       "  </tbody>\n",
       "</table>\n",
       "</div>"
      ],
      "text/plain": [
       "       sample  label\n",
       "0  200104.wav      1\n",
       "1  200866.wav      1\n",
       "2  200922.wav      1\n",
       "3  200336.wav      0\n",
       "4  200070.wav      1"
      ]
     },
     "execution_count": 4,
     "metadata": {},
     "output_type": "execute_result"
    }
   ],
   "source": [
    "validation_path = 'validation/validation/'\n",
    "validation_df = pd.read_csv('validation.txt', header=None)\n",
    "validation_df.columns = ['sample', 'label']\n",
    "validation_df.head()"
   ]
  },
  {
   "cell_type": "code",
   "execution_count": 5,
   "metadata": {},
   "outputs": [],
   "source": [
    "def get_signals(df, path, sr=sample_rate):\n",
    "    for index, row in df.iterrows():\n",
    "        file_name = os.path.join(path, row['sample'])\n",
    "        yield librosa.load(file_name, sr=sr)[0], row['label']\n",
    "        \n",
    "def get_signals_like_label(df, path, signal_label, sr=sample_rate):\n",
    "    signals = get_signals(df, path, sr)\n",
    "    for signal, label in signals:\n",
    "        if label == signal_label:\n",
    "            yield signal, label\n",
    "\n",
    "def get_fft(sample, sr=sample_rate):\n",
    "    fft = abs(np.fft.rfft(sample)/len(sample))\n",
    "    return fft"
   ]
  },
  {
   "cell_type": "code",
   "execution_count": 6,
   "metadata": {
    "scrolled": true
   },
   "outputs": [],
   "source": [
    "X_train, y_train = [], []\n",
    "signals_gen_train = get_signals(train_df, train_path)\n",
    "\n",
    "for signal, label in signals_gen_train:\n",
    "    sample1 = librosa.feature.mfcc(signal, sr=sample_rate)\n",
    "    sample2 = get_fft(signal)\n",
    "    sample1 = librosa.util.normalize(sample1).reshape(-1)\n",
    "    sample = list(sample1) + list(sample2)\n",
    "    X_train.append(sample)\n",
    "    y_train.append(label)\n",
    "\n",
    "X_train, y_train = np.array(X_train), np.array(y_train)"
   ]
  },
  {
   "cell_type": "code",
   "execution_count": 7,
   "metadata": {},
   "outputs": [],
   "source": [
    "X_val, y_val = [], []\n",
    "signals_gen_val = get_signals(validation_df, validation_path)\n",
    "\n",
    "for signal, label in signals_gen_val:\n",
    "    sample1 = librosa.feature.mfcc(signal, sr=sample_rate)\n",
    "    sample2 = get_fft(signal)\n",
    "    sample1 = librosa.util.normalize(sample1).reshape(-1)\n",
    "    sample = list(sample1) + list(sample2)\n",
    "    X_val.append(sample)\n",
    "    y_val.append(label)\n",
    "\n",
    "X_val, y_val = np.array(X_val), np.array(y_val)"
   ]
  },
  {
   "cell_type": "code",
   "execution_count": 46,
   "metadata": {},
   "outputs": [
    {
     "data": {
      "text/plain": [
       "XGBClassifier(base_score=0.5, booster='gbtree', colsample_bylevel=1,\n",
       "              colsample_bynode=1, colsample_bytree=1, gamma=0.1,\n",
       "              learning_rate=0.1, max_delta_step=0, max_depth=4,\n",
       "              min_child_weight=1, missing=None, n_estimators=100, n_jobs=1,\n",
       "              nthread=None, objective='binary:logistic', random_state=0,\n",
       "              reg_alpha=0, reg_lambda=1, scale_pos_weight=1, seed=None,\n",
       "              silent=None, subsample=1, verbosity=1)"
      ]
     },
     "execution_count": 46,
     "metadata": {},
     "output_type": "execute_result"
    }
   ],
   "source": [
    "bst = xgb.XGBClassifier(objective='binary:logistic', gamma=0.1, max_depth=4)\n",
    "bst.fit(X_train, y_train)"
   ]
  },
  {
   "cell_type": "code",
   "execution_count": 47,
   "metadata": {
    "scrolled": true
   },
   "outputs": [
    {
     "data": {
      "text/plain": [
       "0.722"
      ]
     },
     "execution_count": 47,
     "metadata": {},
     "output_type": "execute_result"
    }
   ],
   "source": [
    "bst.score(X_val, y_val)"
   ]
  },
  {
   "cell_type": "markdown",
   "metadata": {},
   "source": [
    "xgboost cu mfcc si fft: 72.2%"
   ]
  },
  {
   "cell_type": "code",
   "execution_count": 8,
   "metadata": {},
   "outputs": [],
   "source": [
    "test_path = 'test/test/'\n",
    "test_df = pd.read_csv('test.txt', header=None)\n",
    "test_df.columns = ['sample']\n",
    "test_df['label'] = [1] * len(test_df)  # doar ca sa pot folosi aceeasi functie de get_signals\n",
    "\n",
    "X_test = []\n",
    "signals_gen_test = get_signals(test_df, test_path)\n",
    "\n",
    "for signal, label in signals_gen_test:\n",
    "    sample1 = librosa.feature.mfcc(signal, sr=sample_rate)\n",
    "    sample2 = get_fft(signal)\n",
    "    sample1 = librosa.util.normalize(sample1).reshape(-1)\n",
    "    sample = list(sample1) + list(sample2)\n",
    "    X_test.append(sample)\n",
    "\n",
    "X_test = np.array(X_test)"
   ]
  },
  {
   "cell_type": "code",
   "execution_count": 9,
   "metadata": {},
   "outputs": [],
   "source": [
    "def salvare_predictii(y_pred, nume_model):\n",
    "    test_df['label'] = y_pred\n",
    "\n",
    "    with open('predictions_' + nume_model + '.txt', 'w') as fout:\n",
    "        fout.write('name,label\\n')\n",
    "        for index, [sample, label] in test_df.iterrows():\n",
    "            fout.write(str(sample))\n",
    "            fout.write(',')\n",
    "            fout.write(str(label))\n",
    "            fout.write('\\n')"
   ]
  },
  {
   "cell_type": "code",
   "execution_count": 48,
   "metadata": {},
   "outputs": [],
   "source": [
    "y_pred = bst.predict(X_test)\n",
    "salvare_predictii(y_pred, 'xgb_mfcc_fft_g01_md4')"
   ]
  },
  {
   "cell_type": "code",
   "execution_count": 72,
   "metadata": {},
   "outputs": [
    {
     "name": "stderr",
     "output_type": "stream",
     "text": [
      "8000it [09:06, 14.63it/s]\n"
     ]
    }
   ],
   "source": [
    "X_train_more = []\n",
    "signals_gen_train = get_signals(train_df, train_path)\n",
    "\n",
    "i = 0\n",
    "for signal, label in tqdm(signals_gen_train):\n",
    "    melspec = librosa.feature.melspectrogram(signal, sr=sample_rate)\n",
    "    chroma = librosa.feature.chroma_cqt(signal, sr=sample_rate)\n",
    "    sample = list(melspec.reshape(-1)) + list(chroma.reshape(-1)) + list(X_train[i])\n",
    "    X_train_more.append(sample)\n",
    "    i += 1\n",
    "\n",
    "X_train_more = np.array(X_train_more)"
   ]
  },
  {
   "cell_type": "code",
   "execution_count": 73,
   "metadata": {},
   "outputs": [
    {
     "name": "stderr",
     "output_type": "stream",
     "text": [
      "1000it [00:49, 20.12it/s]\n"
     ]
    }
   ],
   "source": [
    "X_val_more = []\n",
    "signals_gen_val = get_signals(validation_df, validation_path)\n",
    "\n",
    "i = 0\n",
    "for signal, label in tqdm(signals_gen_val):\n",
    "    melspec = librosa.feature.melspectrogram(signal, sr=sample_rate)\n",
    "    chroma = librosa.feature.chroma_cqt(signal, sr=sample_rate)\n",
    "    sample = list(melspec.reshape(-1)) + list(chroma.reshape(-1)) + list(X_val[i])\n",
    "    X_val_more.append(sample)\n",
    "    i += 1\n",
    "\n",
    "X_val_more = np.array(X_val_more)"
   ]
  },
  {
   "cell_type": "code",
   "execution_count": 77,
   "metadata": {},
   "outputs": [
    {
     "name": "stderr",
     "output_type": "stream",
     "text": [
      "\n",
      "59it [00:20, 22.94it/s]\u001b[A"
     ]
    }
   ],
   "source": [
    "X_test_more = []\n",
    "signals_gen_test = get_signals(test_df, test_path)\n",
    "\n",
    "i = 0\n",
    "for signal, label in signals_gen_test:\n",
    "    melspec = librosa.feature.melspectrogram(signal, sr=sample_rate)\n",
    "    chroma = librosa.feature.chroma_cqt(signal, sr=sample_rate)\n",
    "    sample = list(melspec.reshape(-1)) + list(chroma.reshape(-1)) + list(X_test[i])\n",
    "    X_test_more.append(sample)\n",
    "    i += 1\n",
    "\n",
    "X_test_more = np.array(X_test_more)"
   ]
  },
  {
   "cell_type": "code",
   "execution_count": 78,
   "metadata": {},
   "outputs": [
    {
     "data": {
      "text/plain": [
       "XGBClassifier(base_score=0.5, booster='gbtree', colsample_bylevel=1,\n",
       "              colsample_bynode=1, colsample_bytree=1, gamma=0,\n",
       "              learning_rate=0.1, max_delta_step=0, max_depth=3,\n",
       "              min_child_weight=1, missing=None, n_estimators=100, n_jobs=1,\n",
       "              nthread=None, objective='binary:logistic', random_state=0,\n",
       "              reg_alpha=0, reg_lambda=1, scale_pos_weight=1, seed=None,\n",
       "              silent=None, subsample=1, verbosity=1)"
      ]
     },
     "execution_count": 78,
     "metadata": {},
     "output_type": "execute_result"
    }
   ],
   "source": [
    "bst_more = xgb.XGBClassifier(objective='binary:logistic')\n",
    "bst_more.fit(X_train_more, y_train)"
   ]
  },
  {
   "cell_type": "code",
   "execution_count": 80,
   "metadata": {
    "scrolled": true
   },
   "outputs": [
    {
     "data": {
      "text/plain": [
       "0.721"
      ]
     },
     "execution_count": 80,
     "metadata": {},
     "output_type": "execute_result"
    }
   ],
   "source": [
    "bst_more.score(X_val_more, y_val)"
   ]
  },
  {
   "cell_type": "code",
   "execution_count": 81,
   "metadata": {},
   "outputs": [],
   "source": [
    "y_pred = bst_more.predict(X_test_more)\n",
    "salvare_predictii(y_pred, 'xgb_more')"
   ]
  },
  {
   "cell_type": "code",
   "execution_count": 12,
   "metadata": {},
   "outputs": [],
   "source": [
    "X_train_val = list(X_train)\n",
    "for x in X_val:\n",
    "    X_train_val.append(list(x))\n",
    "\n",
    "y_train_val = list(y_train)\n",
    "\n",
    "for y in y_val:\n",
    "    y_train_val.append(y)\n",
    "\n",
    "X_train_val, y_train_val = np.array(X_train_val), np.array(y_train_val)"
   ]
  },
  {
   "cell_type": "code",
   "execution_count": 16,
   "metadata": {
    "scrolled": true
   },
   "outputs": [
    {
     "data": {
      "text/plain": [
       "XGBClassifier(base_score=0.5, booster='gbtree', colsample_bylevel=1,\n",
       "              colsample_bynode=1, colsample_bytree=1, gamma=0,\n",
       "              learning_rate=0.1, max_delta_step=0, max_depth=3,\n",
       "              min_child_weight=1, missing=None, n_estimators=100, n_jobs=1,\n",
       "              nthread=None, objective='binary:logistic', random_state=0,\n",
       "              reg_alpha=0, reg_lambda=1, scale_pos_weight=1, seed=None,\n",
       "              silent=None, subsample=1, verbosity=1)"
      ]
     },
     "execution_count": 16,
     "metadata": {},
     "output_type": "execute_result"
    }
   ],
   "source": [
    "bst_all = xgb.XGBClassifier(objective='binary:logistic')\n",
    "bst_all.fit(X_train_val, y_train_val)"
   ]
  },
  {
   "cell_type": "code",
   "execution_count": 17,
   "metadata": {},
   "outputs": [],
   "source": [
    "y_pred = bst_all.predict(X_test)\n",
    "salvare_predictii(y_pred, 'xgb_all')"
   ]
  }
 ],
 "metadata": {
  "kernelspec": {
   "display_name": "Python 3",
   "language": "python",
   "name": "python3"
  },
  "language_info": {
   "codemirror_mode": {
    "name": "ipython",
    "version": 3
   },
   "file_extension": ".py",
   "mimetype": "text/x-python",
   "name": "python",
   "nbconvert_exporter": "python",
   "pygments_lexer": "ipython3",
   "version": "3.7.7"
  }
 },
 "nbformat": 4,
 "nbformat_minor": 4
}
