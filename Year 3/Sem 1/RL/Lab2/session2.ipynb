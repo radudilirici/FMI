{
 "cells": [
  {
   "cell_type": "markdown",
   "metadata": {},
   "source": [
    "# Lab 2: Monte Carlo"
   ]
  },
  {
   "cell_type": "markdown",
   "metadata": {},
   "source": [
    "## Imports\n",
    "\n",
    "### If you want to check the solution directly, just uncomment the line:\n",
    "from BJAgent_sol import BJAgent"
   ]
  },
  {
   "cell_type": "code",
   "execution_count": 22,
   "metadata": {},
   "outputs": [
    {
     "name": "stdout",
     "output_type": "stream",
     "text": [
      "The autoreload extension is already loaded. To reload it, use:\n",
      "  %reload_ext autoreload\n"
     ]
    }
   ],
   "source": [
    "%matplotlib inline\n",
    "\n",
    "import gym\n",
    "import numpy as np\n",
    "from collections import defaultdict\n",
    "import matplotlib.pyplot as plt\n",
    "import pickle\n",
    "from tqdm import trange\n",
    "import seaborn as sns\n",
    "import pandas as pd\n",
    "from random import random\n",
    "import warnings\n",
    "warnings.filterwarnings(\"ignore\")\n",
    "\n",
    "#cross check with our solutions once you finish\n",
    "# from BJAgent_your import BJAgent, MonteCarlo_BJAgent\n",
    "#from BJAgent_sol import BJAgent, MonteCarlo_BJAgent\n",
    "from BJAgent_Q import TrainBJAgent, Q_BJAgent\n",
    "\n",
    "from utils import *\n",
    "\n",
    "MODEL_PATH = 'models/'\n",
    "\n",
    "%load_ext autoreload\n",
    "%autoreload 2\n",
    "%reload_ext autoreload\n"
   ]
  },
  {
   "cell_type": "markdown",
   "metadata": {},
   "source": [
    "## What is Monte Carlo Method in general"
   ]
  },
  {
   "cell_type": "markdown",
   "metadata": {},
   "source": [
    "You can think of it as a fancy way of saying **trial-and-error for some iterations then find an average**."
   ]
  },
  {
   "cell_type": "code",
   "execution_count": 2,
   "metadata": {},
   "outputs": [
    {
     "name": "stdout",
     "output_type": "stream",
     "text": [
      "Pi according to estimation is 3.141396.\n"
     ]
    },
    {
     "data": {
      "text/plain": [
       "\"\\nfig, ax = plt.subplots()\\nax.set_aspect('equal')\\nax.scatter(x_inside, y_inside, color='g', marker='s')\\nax.scatter(x_outside, y_outside, color='r', marker='s')\\nfig.show()\\n\""
      ]
     },
     "execution_count": 2,
     "metadata": {},
     "output_type": "execute_result"
    }
   ],
   "source": [
    "# Let's find pi using MC:\n",
    "# - draw N samples inside a [1,1] box and if they fall inside unit circle we count them as inside.\n",
    "# The full explanation here: https://academo.org/demos/estimating-pi-monte-carlo/\n",
    "inside = 0\n",
    "n = 10**6 # 10^3\n",
    "\n",
    "x_inside = []\n",
    "y_inside = []\n",
    "x_outside = []\n",
    "y_outside = []\n",
    "\n",
    "for _ in range(n):\n",
    "    x = random()\n",
    "    y = random()\n",
    "    if x**2+y**2 <= 1:\n",
    "        inside += 1\n",
    "        x_inside.append(x)\n",
    "        y_inside.append(y)\n",
    "    else:\n",
    "        x_outside.append(x)\n",
    "        y_outside.append(y)\n",
    "\n",
    "pi = 4*inside/n\n",
    "print(f'Pi according to estimation is {pi}.')\n",
    "\n",
    "\"\"\"\n",
    "fig, ax = plt.subplots()\n",
    "ax.set_aspect('equal')\n",
    "ax.scatter(x_inside, y_inside, color='g', marker='s')\n",
    "ax.scatter(x_outside, y_outside, color='r', marker='s')\n",
    "fig.show()\n",
    "\"\"\""
   ]
  },
  {
   "cell_type": "markdown",
   "metadata": {},
   "source": [
    "## Colab Setup"
   ]
  },
  {
   "cell_type": "markdown",
   "metadata": {},
   "source": [
    "## Recap"
   ]
  },
  {
   "cell_type": "markdown",
   "metadata": {},
   "source": [
    "### What is Reinforcement Learning"
   ]
  },
  {
   "cell_type": "markdown",
   "metadata": {},
   "source": [
    "Reinforcement learning formulates interaction between an **agent** and its **environment** as **Markov decision processes**. For a given **state**, an agent takes an **action** based on the current **state**. In response to that action at that state, the agent will then get some **reward** from the environment, and that state changes to the next one.\n",
    "\n",
    "$S_0 \\rightarrow A_0 \\rightarrow R_1 \\rightarrow S_1 \\rightarrow A_1 \\rightarrow R_2 \\rightarrow S_2 \\rightarrow ... \\rightarrow S_{t-1} \\rightarrow A_{t-1} \\rightarrow R_t \\rightarrow S_{t}$"
   ]
  },
  {
   "cell_type": "markdown",
   "metadata": {},
   "source": [
    "![RL Framework](img/rl_framework.png)\n",
    "Source: [Sutton and Barto](https://cdn.preterhuman.net/texts/science_and_technology/artificial_intelligence/Reinforcement%20Learning%20%20An%20Introduction%20-%20Richard%20S.%20Sutton%20,%20Andrew%20G.%20Barto.pdf)"
   ]
  },
  {
   "cell_type": "markdown",
   "metadata": {},
   "source": [
    "# This lab: How do we deal with stochastic environment and policy?"
   ]
  },
  {
   "cell_type": "markdown",
   "metadata": {},
   "source": [
    "There are two main approaches in solving reinforcement learning: **model-based** and **model-free** approaches. \n",
    "\n",
    "The model-based approach assumes that we have some or full knowledge of how our environment works (God-mode GridWorld).\n",
    "\n",
    "**The model-free approach relies on our agent to explore the environment without any prior knowledge.**"
   ]
  },
  {
   "cell_type": "markdown",
   "metadata": {},
   "source": [
    "<img src=\"img/monte_carlo.jpg\" alt=\"Monte Carlo Casino\" width=75%/>"
   ]
  },
  {
   "cell_type": "markdown",
   "metadata": {},
   "source": [
    "## [Blackjack-v0](https://github.com/openai/gym/blob/master/gym/envs/toy_text/blackjack.py)"
   ]
  },
  {
   "cell_type": "markdown",
   "metadata": {},
   "source": [
    "We are going to play the variant of blackjack problem described in Example 5.1 in [Reinforcement Learning: An Introduction by Sutton and Barto](http://incompleteideas.net/book/the-book-2nd.html). The rules are almost the same as a typical casino poker except for:\n",
    "* There are only two actions for the player: hit or stay\n",
    "* Cards are dealt randomly with replacement from a standard 52-card deck"
   ]
  },
  {
   "cell_type": "markdown",
   "metadata": {},
   "source": [
    "<img src=\"img/blackjack_scores.PNG\" alt=\"Blackjack Scores\" />"
   ]
  },
  {
   "cell_type": "code",
   "execution_count": 15,
   "metadata": {},
   "outputs": [],
   "source": [
    "env = gym.make('Blackjack-v0')"
   ]
  },
  {
   "cell_type": "markdown",
   "metadata": {},
   "source": [
    "**Concept Assignment** Using the reinforcement learning scheme we learned from last class, what would Blackjack-v0 look like?\n",
    "\n",
    "* Environment: Blackjack table\n",
    "* Agent: Player\n",
    "* States: ????\n",
    "* Actions: ????\n",
    "* Rewards:  ????\n",
    "* Episodes: ????"
   ]
  },
  {
   "cell_type": "markdown",
   "metadata": {},
   "source": [
    "### Observation Space (State Space)"
   ]
  },
  {
   "cell_type": "markdown",
   "metadata": {},
   "source": [
    "The state is a tuple with three elements:\n",
    "* The player's current score (0-31)\n",
    "* The dealer's showing card (1-10)\n",
    "* 1 if the player has a usable ace; 0 if the player does not."
   ]
  },
  {
   "cell_type": "code",
   "execution_count": 16,
   "metadata": {},
   "outputs": [
    {
     "data": {
      "text/plain": [
       "Tuple(Discrete(32), Discrete(11), Discrete(2))"
      ]
     },
     "execution_count": 16,
     "metadata": {},
     "output_type": "execute_result"
    }
   ],
   "source": [
    "env.observation_space"
   ]
  },
  {
   "cell_type": "code",
   "execution_count": 17,
   "metadata": {},
   "outputs": [
    {
     "data": {
      "text/plain": [
       "(20, 2, False)"
      ]
     },
     "execution_count": 17,
     "metadata": {},
     "output_type": "execute_result"
    }
   ],
   "source": [
    "env.reset()"
   ]
  },
  {
   "cell_type": "markdown",
   "metadata": {},
   "source": [
    "### Action Space"
   ]
  },
  {
   "cell_type": "markdown",
   "metadata": {},
   "source": [
    "* 0 - stick\n",
    "* 1 - hit"
   ]
  },
  {
   "cell_type": "code",
   "execution_count": 6,
   "metadata": {},
   "outputs": [
    {
     "data": {
      "text/plain": [
       "Discrete(2)"
      ]
     },
     "execution_count": 6,
     "metadata": {},
     "output_type": "execute_result"
    }
   ],
   "source": [
    "env.action_space"
   ]
  },
  {
   "cell_type": "markdown",
   "metadata": {},
   "source": [
    "### Reward"
   ]
  },
  {
   "cell_type": "markdown",
   "metadata": {},
   "source": [
    "* +1 for winning\n",
    "* +0 for tie\n",
    "* -1 for losing\n",
    "* +1.5 for winning with a natural Blackjack (21 starting hand)"
   ]
  },
  {
   "cell_type": "code",
   "execution_count": 18,
   "metadata": {},
   "outputs": [
    {
     "name": "stdout",
     "output_type": "stream",
     "text": [
      "State: (18, 10, False)\n",
      "Result: ((18, 10, False), 1.0, True, {}) Dealer has 17\n"
     ]
    }
   ],
   "source": [
    "print(f'State: {env.reset()}')\n",
    "print(f'Result: {env.step(0)} Dealer has {sum(env.dealer)}') #next state, reward, done, info\n",
    "\n",
    "# Note: each time when the  user sticks, the game ends. 0 action = stick (see above)"
   ]
  },
  {
   "cell_type": "markdown",
   "metadata": {},
   "source": [
    "### Human Play"
   ]
  },
  {
   "cell_type": "markdown",
   "metadata": {},
   "source": [
    "Play a couple of rounds with your own natural neural networks to get a hang of the environment."
   ]
  },
  {
   "cell_type": "code",
   "execution_count": 40,
   "metadata": {},
   "outputs": [
    {
     "name": "stdout",
     "output_type": "stream",
     "text": [
      "Starting hands: You have 12. Dealer is showing 3\n",
      "Choose action: 1\n",
      "After taking action 1, You have 22. Usable ace: False\n",
      "You have 22, Dealer has 11, Reward: -1.0\n"
     ]
    }
   ],
   "source": [
    "\n",
    "state = env.reset()\n",
    "print(f'Starting hands: You have {state[0]}. Dealer is showing {state[1]}')\n",
    "done = False\n",
    "while not done:\n",
    "    action = int(input('Choose action: '))\n",
    "    state, reward, done, info = env.step(action)\n",
    "    print(f'After taking action {action}, You have {state[0]}. Usable ace: {state[2]}')\n",
    "    if done:\n",
    "        print(f'You have {state[0]}, Dealer has {sum(env.dealer)}, Reward: {reward}')\n"
   ]
  },
  {
   "cell_type": "markdown",
   "metadata": {},
   "source": [
    "### Computer Play"
   ]
  },
  {
   "cell_type": "markdown",
   "metadata": {},
   "source": [
    "This function `run_single_episode`  simulates an agent playing at random "
   ]
  },
  {
   "cell_type": "code",
   "execution_count": 31,
   "metadata": {},
   "outputs": [],
   "source": [
    "def run_single_episode(agent):\n",
    "    result = []\n",
    "    state = env.reset()\n",
    "    while True:\n",
    "        action = agent.select_action(state, -1)  # getAction\n",
    "        next_state, reward, done, info = env.step(action)\n",
    "        result.append((state, action, reward))\n",
    "        state = next_state\n",
    "        if done:\n",
    "            result.append(state)\n",
    "            break\n",
    "    return(result) #must return a list of tuples (state,action,reward,next_state,done)\n",
    "\n",
    "# randomAgent = BJAgent(env)\n",
    "# res = run_single_episode(randomAgent)\n",
    "# print(res)"
   ]
  },
  {
   "cell_type": "markdown",
   "metadata": {},
   "source": [
    "## Optimal Strategy for Blackjack"
   ]
  },
  {
   "cell_type": "markdown",
   "metadata": {},
   "source": [
    "Black Jack is the game with one of the best odds in the casino. [Ed Thorp (1966)](http://www.eecs.harvard.edu/cs286r/courses/fall12/papers/Thorpe_KellyCriterion2007.pdf) has derived the basic optimal strategy of playing the game using the [Kelly Criterion](http://www.herrold.com/brokerage/kelly.pdf) as the following figure. Those interested in the derivation should check out Thorp's book [Beat the Dealer](https://www.amazon.com/Beat-Dealer-Winning-Strategy-Twenty-One/dp/0394703103) as well as [Bringing Down The House](https://www.amazon.com/gp/product/0743249992/) by Ben Mezrich and its movie adaptation [21](https://www.imdb.com/title/tt0478087/). But for today, we will have nothing to do with the math and everything to do with reinforcement learning, Monte Carlo method."
   ]
  },
  {
   "cell_type": "markdown",
   "metadata": {},
   "source": [
    "<img src=\"img/ed_thorp.PNG\" alt=\"Basic Optimal Strategy for Black Jack\" />"
   ]
  },
  {
   "cell_type": "code",
   "execution_count": 28,
   "metadata": {},
   "outputs": [
    {
     "name": "stderr",
     "output_type": "stream",
     "text": [
      "100%|██████████| 100000/100000 [00:07<00:00, 12680.40it/s]\n"
     ]
    }
   ],
   "source": [
    "# This functions runs an episode with a given policy.\n",
    "# The policy  is a dictionaryy mapping from state -> action\n",
    "# env.action_space.sample()  returns a random action  - you could use this one above !\n",
    "def run_single_episode_with_policy(policy=None):\n",
    "    result = []\n",
    "    state = env.reset()\n",
    "    while True:\n",
    "        action = policy[state] if policy else env.action_space.sample()\n",
    "        next_state,reward,done,info = env.step(action)\n",
    "        result.append((state,action,reward,next_state,done))\n",
    "        state = next_state\n",
    "        if done: break\n",
    "    return(result) #must return a list of tuples (state,action,reward,next_state,done)\n",
    "\n",
    "#load saved optimal q dictionary, i.e. it maps state - > [Q(state, stick), Q(state, hit)]\n",
    "optimal_q = pickle.load(open(f'{MODEL_PATH}bj_optimal_q.pkl','rb'))\n",
    "\n",
    "#convert to optimal policy, i.e. a new dictionary mapping state - > argmax(two Q(state, *) actions)\n",
    "optimal_policy = {state:np.argmax(value) for state, value in optimal_q.items()}\n",
    "\n",
    "# Stick only policy\n",
    "stick_policy = {state: 0 for state,value in optimal_policy.items()}\n",
    "\n",
    "# Play a big number of episodes and compare the results between the following policies:\n",
    "# A. stick always\n",
    "# B. random policy\n",
    "# C. optimal policy\n",
    "n_trial = 100000\n",
    "stick_rewards = []\n",
    "random_rewards = []\n",
    "optimal_rewards = []\n",
    "for i in trange(n_trial): #  trange is from tdqm package to show some visual output with the iteration status\n",
    "    # Run episode under each policy\n",
    "    stick_res = run_single_episode_with_policy(stick_policy)\n",
    "    random_res = run_single_episode_with_policy()\n",
    "    optimal_res = run_single_episode_with_policy(optimal_policy)\n",
    "    \n",
    "    # -1 represents the last component index which gives us the final episode transitioon\n",
    "    # The reward is on position 2\n",
    "    stick_rewards.append(stick_res[-1][2])\n",
    "    random_rewards.append(random_res[-1][2])\n",
    "    optimal_rewards.append(optimal_res[-1][2])\n",
    "    "
   ]
  },
  {
   "cell_type": "code",
   "execution_count": 29,
   "metadata": {},
   "outputs": [
    {
     "name": "stdout",
     "output_type": "stream",
     "text": [
      "   stick  random  optimal\n",
      "0    1.0    -1.0     -1.0\n",
      "1   -1.0    -1.0     -1.0\n",
      "2    1.0    -1.0      1.0\n",
      "3   -1.0    -1.0     -1.0\n",
      "4   -1.0     1.0     -1.0\n",
      "5   -1.0     1.0     -1.0\n",
      "6    1.0    -1.0      0.0\n",
      "7    1.0     1.0     -1.0\n",
      "8   -1.0    -1.0      1.0\n",
      "9    0.0    -1.0      1.0\n"
     ]
    }
   ],
   "source": [
    "# Let's create a pandasdataframe (similar to a SQL table !)\n",
    "result = pd.DataFrame({'stick':stick_rewards,'random':random_rewards,'optimal':optimal_rewards})\n",
    "print(result[0:10]) # print the first 10 episode reward results as a demo\n"
   ]
  },
  {
   "cell_type": "code",
   "execution_count": 30,
   "metadata": {},
   "outputs": [
    {
     "name": "stdout",
     "output_type": "stream",
     "text": [
      "               stick         random        optimal\n",
      "count  100000.000000  100000.000000  100000.000000\n",
      "mean       -0.183420      -0.394750      -0.048560\n",
      "std         0.956225       0.895562       0.952361\n",
      "min        -1.000000      -1.000000      -1.000000\n",
      "25%        -1.000000      -1.000000      -1.000000\n",
      "50%        -1.000000      -1.000000       0.000000\n",
      "75%         1.000000       1.000000       1.000000\n",
      "max         1.000000       1.000000       1.000000\n"
     ]
    }
   ],
   "source": [
    "# Let's plot some stats about the database\n",
    "print(result.describe())"
   ]
  },
  {
   "cell_type": "code",
   "execution_count": 31,
   "metadata": {},
   "outputs": [
    {
     "name": "stdout",
     "output_type": "stream",
     "text": [
      "  variable  value\n",
      "0    stick    1.0\n",
      "1    stick   -1.0\n",
      "2    stick    1.0\n",
      "3    stick   -1.0\n",
      "4    stick   -1.0\n",
      "5    stick   -1.0\n",
      "6    stick    1.0\n",
      "7    stick    1.0\n",
      "8    stick   -1.0\n",
      "9    stick    0.0\n"
     ]
    }
   ],
   "source": [
    "# Now let's make it more visible - put all variables in a column and the values in another one\n",
    "result_m = result.melt()\n",
    "print(result_m[0:10])"
   ]
  },
  {
   "cell_type": "code",
   "execution_count": 32,
   "metadata": {},
   "outputs": [
    {
     "data": {
      "text/plain": [
       "<matplotlib.axes._subplots.AxesSubplot at 0x7f8380530780>"
      ]
     },
     "execution_count": 32,
     "metadata": {},
     "output_type": "execute_result"
    },
    {
     "data": {
      "image/png": "[encoded data removed]",
      "text/plain": [
       "<Figure size 432x288 with 1 Axes>"
      ]
     },
     "metadata": {
      "needs_background": "light"
     },
     "output_type": "display_data"
    }
   ],
   "source": [
    "# Using the melted dataset above, draw a barplot to compare visually between them\n",
    "sns.barplot(data=result_m, x ='variable', y ='value')"
   ]
  },
  {
   "cell_type": "markdown",
   "metadata": {},
   "source": [
    "## Implement on your own - Control Problem: Greedy within The Limit of Exploration (GLIE)"
   ]
  },
  {
   "cell_type": "markdown",
   "metadata": {},
   "source": [
    "Remember the first version of MC Control from the book (chapter 5.4)"
   ]
  },
  {
   "cell_type": "markdown",
   "metadata": {},
   "source": [
    "## Version 1 studied:"
   ]
  },
  {
   "cell_type": "markdown",
   "metadata": {},
   "source": [
    "Remember the pseudocode for GLIE MC Control:"
   ]
  },
  {
   "cell_type": "markdown",
   "metadata": {},
   "source": [
    "![First version from chapter 5.4](img/mc1.PNG)"
   ]
  },
  {
   "cell_type": "markdown",
   "metadata": {},
   "source": [
    "Remember from course that we have a possibility to compute the sum incrementally:\n",
    "![Incrementa sum](img/mc2.PNG)\n",
    "\n",
    "\n",
    "Than we move to the GLIE method which performs the best and updates an e-policy"
   ]
  },
  {
   "cell_type": "markdown",
   "metadata": {},
   "source": [
    "![Greedy within The Limit of Exploration](img/mc_control_glie.PNG)"
   ]
  },
  {
   "cell_type": "markdown",
   "metadata": {},
   "source": [
    "**Coding Assigment 1** Implement GLIE Monte Carlo control in file BJAgent.py `mc_control_glie`, then run the code below to create the agent in the environment, train the policy"
   ]
  },
  {
   "cell_type": "code",
   "execution_count": 33,
   "metadata": {
    "scrolled": true
   },
   "outputs": [
    {
     "name": "stderr",
     "output_type": "stream",
     "text": [
      "\n",
      "\n",
      "  0%|                                                                                       | 0/100000 [00:00<?, ?it/s]\u001b[A\u001b[A\n",
      "\n",
      "  1%|▍                                                                          | 513/100000 [00:00<00:19, 5113.17it/s]\u001b[A\u001b[A\n",
      "\n",
      "  1%|▋                                                                          | 953/100000 [00:00<00:20, 4875.56it/s]\u001b[A\u001b[A\n",
      "\n",
      "  1%|█                                                                         | 1431/100000 [00:00<00:20, 4831.82it/s]\u001b[A\u001b[A\n",
      "\n",
      "  2%|█▎                                                                        | 1852/100000 [00:00<00:21, 4611.65it/s]\u001b[A\u001b[A\n",
      "\n",
      "  2%|█▊                                                                        | 2390/100000 [00:00<00:20, 4817.51it/s]\u001b[A\u001b[A\n",
      "\n",
      "  3%|██                                                                        | 2846/100000 [00:00<00:20, 4723.11it/s]\u001b[A\u001b[A\n",
      "\n",
      "  3%|██▍                                                                       | 3307/100000 [00:00<00:20, 4688.53it/s]\u001b[A\u001b[A\n",
      "\n",
      "  4%|██▊                                                                       | 3737/100000 [00:00<00:25, 3739.49it/s]\u001b[A\u001b[A\n",
      "\n",
      "  4%|███                                                                       | 4114/100000 [00:01<00:32, 2935.21it/s]\u001b[A\u001b[A\n",
      "\n",
      "  5%|███▎                                                                      | 4558/100000 [00:01<00:29, 3265.50it/s]\u001b[A\u001b[A\n",
      "\n",
      "  5%|███▋                                                                      | 4945/100000 [00:01<00:27, 3416.94it/s]\u001b[A\u001b[A\n",
      "\n",
      "  5%|███▉                                                                      | 5311/100000 [00:01<00:27, 3418.06it/s]\u001b[A\u001b[A\n",
      "\n",
      "  6%|████▎                                                                     | 5784/100000 [00:01<00:25, 3728.28it/s]\u001b[A\u001b[A\n",
      "\n",
      "  6%|████▋                                                                     | 6314/100000 [00:01<00:22, 4091.95it/s]\u001b[A\u001b[A\n",
      "\n",
      "  7%|█████                                                                     | 6796/100000 [00:01<00:21, 4275.25it/s]\u001b[A\u001b[A\n",
      "\n",
      "  7%|█████▎                                                                    | 7244/100000 [00:01<00:22, 4096.82it/s]\u001b[A\u001b[A\n",
      "\n",
      "  8%|█████▋                                                                    | 7669/100000 [00:01<00:23, 3934.55it/s]\u001b[A\u001b[A\n",
      "\n",
      "  8%|██████                                                                    | 8241/100000 [00:02<00:21, 4331.20it/s]\u001b[A\u001b[A\n",
      "\n",
      "  9%|██████▍                                                                   | 8751/100000 [00:02<00:20, 4524.33it/s]\u001b[A\u001b[A\n",
      "\n",
      "  9%|██████▊                                                                   | 9221/100000 [00:02<00:19, 4571.14it/s]\u001b[A\u001b[A\n",
      "\n",
      " 10%|███████▏                                                                  | 9724/100000 [00:02<00:19, 4692.84it/s]\u001b[A\u001b[A\n",
      "\n",
      " 10%|███████▌                                                                 | 10348/100000 [00:02<00:17, 5068.00it/s]\u001b[A\u001b[A\n",
      "\n",
      " 11%|███████▉                                                                 | 10870/100000 [00:02<00:17, 4967.07it/s]\u001b[A\u001b[A\n",
      "\n",
      " 11%|████████▎                                                                | 11378/100000 [00:02<00:19, 4484.19it/s]\u001b[A\u001b[A\n",
      "\n",
      " 12%|████████▋                                                                | 11843/100000 [00:02<00:20, 4212.44it/s]\u001b[A\u001b[A\n",
      "\n",
      " 12%|█████████                                                                | 12458/100000 [00:02<00:18, 4651.68it/s]\u001b[A\u001b[A\n",
      "\n",
      " 13%|█████████▌                                                               | 13053/100000 [00:02<00:17, 4977.46it/s]\u001b[A\u001b[A\n",
      "\n",
      " 14%|█████████▉                                                               | 13582/100000 [00:03<00:17, 5053.03it/s]\u001b[A\u001b[A\n",
      "\n",
      " 14%|██████████▎                                                              | 14105/100000 [00:03<00:16, 5074.86it/s]\u001b[A\u001b[A\n",
      "\n",
      " 15%|██████████▋                                                              | 14625/100000 [00:03<00:16, 5067.63it/s]\u001b[A\u001b[A\n",
      "\n",
      " 15%|███████████                                                              | 15186/100000 [00:03<00:16, 5218.89it/s]\u001b[A\u001b[A\n",
      "\n",
      " 16%|███████████▍                                                             | 15715/100000 [00:03<00:16, 5074.17it/s]\u001b[A\u001b[A\n",
      "\n",
      " 16%|███████████▉                                                             | 16303/100000 [00:03<00:15, 5280.12it/s]\u001b[A\u001b[A\n",
      "\n",
      " 17%|████████████▎                                                            | 16849/100000 [00:03<00:15, 5330.99it/s]\u001b[A\u001b[A\n",
      "\n",
      " 17%|████████████▋                                                            | 17389/100000 [00:03<00:15, 5338.52it/s]\u001b[A\u001b[A\n",
      "\n",
      " 18%|█████████████                                                            | 17926/100000 [00:03<00:15, 5219.19it/s]\u001b[A\u001b[A\n",
      "\n",
      " 18%|█████████████▍                                                           | 18451/100000 [00:04<00:16, 4849.04it/s]\u001b[A\u001b[A\n",
      "\n",
      " 19%|█████████████▊                                                           | 18944/100000 [00:04<00:19, 4147.42it/s]\u001b[A\u001b[A\n",
      "\n",
      " 19%|██████████████▏                                                          | 19444/100000 [00:04<00:18, 4359.67it/s]\u001b[A\u001b[A\n",
      "\n",
      " 20%|██████████████▌                                                          | 19945/100000 [00:04<00:17, 4523.93it/s]\u001b[A\u001b[A\n",
      "\n",
      " 20%|██████████████▉                                                          | 20413/100000 [00:04<00:19, 4078.22it/s]\u001b[A\u001b[A\n",
      "\n",
      " 21%|███████████████▏                                                         | 20840/100000 [00:04<00:19, 4074.45it/s]\u001b[A\u001b[A\n",
      "\n",
      " 21%|███████████████▋                                                         | 21426/100000 [00:04<00:17, 4474.48it/s]\u001b[A\u001b[A\n",
      "\n",
      " 22%|████████████████                                                         | 21974/100000 [00:04<00:16, 4722.88it/s]\u001b[A\u001b[A\n",
      "\n",
      " 23%|████████████████▍                                                        | 22549/100000 [00:04<00:15, 4983.78it/s]\u001b[A\u001b[A\n",
      "\n",
      " 23%|████████████████▉                                                        | 23155/100000 [00:05<00:14, 5257.89it/s]\u001b[A\u001b[A\n",
      "\n",
      " 24%|█████████████████▎                                                       | 23697/100000 [00:05<00:15, 5023.29it/s]\u001b[A\u001b[A\n",
      "\n",
      " 24%|█████████████████▋                                                       | 24213/100000 [00:05<00:16, 4704.35it/s]\u001b[A\u001b[A\n",
      "\n",
      " 25%|██████████████████                                                       | 24802/100000 [00:05<00:15, 4998.71it/s]\u001b[A\u001b[A\n",
      "\n",
      " 25%|██████████████████▌                                                      | 25451/100000 [00:05<00:13, 5368.24it/s]\u001b[A\u001b[A\n",
      "\n",
      " 26%|██████████████████▉                                                      | 26015/100000 [00:05<00:13, 5431.28it/s]\u001b[A\u001b[A\n",
      "\n",
      " 27%|███████████████████▍                                                     | 26668/100000 [00:05<00:12, 5705.61it/s]\u001b[A\u001b[A\n",
      "\n",
      " 27%|███████████████████▉                                                     | 27299/100000 [00:05<00:12, 5858.05it/s]\u001b[A\u001b[A\n",
      "\n",
      " 28%|████████████████████▎                                                    | 27902/100000 [00:05<00:12, 5907.84it/s]\u001b[A\u001b[A\n",
      "\n",
      " 28%|████████████████████▊                                                    | 28500/100000 [00:06<00:12, 5843.00it/s]\u001b[A\u001b[A\n",
      "\n",
      " 29%|█████████████████████▎                                                   | 29135/100000 [00:06<00:11, 5969.46it/s]\u001b[A\u001b[A\n",
      "\n",
      " 30%|█████████████████████▋                                                   | 29745/100000 [00:06<00:11, 5990.55it/s]\u001b[A\u001b[A\n",
      "\n",
      " 30%|██████████████████████▏                                                  | 30348/100000 [00:06<00:11, 5980.26it/s]\u001b[A\u001b[A\n",
      "\n",
      " 31%|██████████████████████▌                                                  | 30949/100000 [00:06<00:11, 5874.67it/s]\u001b[A\u001b[A\n",
      "\n",
      " 32%|███████████████████████                                                  | 31539/100000 [00:06<00:12, 5645.35it/s]\u001b[A\u001b[A\n",
      "\n",
      " 32%|███████████████████████▍                                                 | 32107/100000 [00:06<00:12, 5540.87it/s]\u001b[A\u001b[A\n",
      "\n",
      " 33%|███████████████████████▊                                                 | 32664/100000 [00:06<00:12, 5236.08it/s]\u001b[A\u001b[A\n",
      "\n",
      " 33%|████████████████████████▎                                                | 33235/100000 [00:06<00:12, 5369.76it/s]\u001b[A\u001b[A\n",
      "\n"
     ]
    },
    {
     "name": "stderr",
     "output_type": "stream",
     "text": [
      " 34%|████████████████████████▋                                                | 33848/100000 [00:06<00:11, 5562.62it/s]\u001b[A\u001b[A\n",
      "\n",
      " 34%|█████████████████████████                                                | 34417/100000 [00:07<00:11, 5583.11it/s]\u001b[A\u001b[A\n",
      "\n",
      " 35%|█████████████████████████▌                                               | 35033/100000 [00:07<00:11, 5729.20it/s]\u001b[A\u001b[A\n",
      "\n",
      " 36%|█████████████████████████▉                                               | 35613/100000 [00:07<00:11, 5750.15it/s]\u001b[A\u001b[A\n",
      "\n",
      " 36%|██████████████████████████▍                                              | 36195/100000 [00:07<00:11, 5753.89it/s]\u001b[A\u001b[A\n",
      "\n",
      " 37%|██████████████████████████▉                                              | 36874/100000 [00:07<00:10, 6013.97it/s]\u001b[A\u001b[A\n",
      "\n",
      " 38%|███████████████████████████▍                                             | 37517/100000 [00:07<00:10, 6132.25it/s]\u001b[A\u001b[A\n",
      "\n",
      " 38%|███████████████████████████▊                                             | 38151/100000 [00:07<00:10, 6175.79it/s]\u001b[A\u001b[A\n",
      "\n",
      " 39%|████████████████████████████▎                                            | 38772/100000 [00:07<00:10, 5755.92it/s]\u001b[A\u001b[A\n",
      "\n",
      " 39%|████████████████████████████▊                                            | 39408/100000 [00:07<00:10, 5908.33it/s]\u001b[A\u001b[A\n",
      "\n",
      " 40%|█████████████████████████████▏                                           | 40025/100000 [00:07<00:10, 5984.34it/s]\u001b[A\u001b[A\n",
      "\n",
      " 41%|█████████████████████████████▋                                           | 40629/100000 [00:08<00:10, 5695.40it/s]\u001b[A\u001b[A\n",
      "\n",
      " 41%|██████████████████████████████▏                                          | 41272/100000 [00:08<00:09, 5896.74it/s]\u001b[A\u001b[A\n",
      "\n",
      " 42%|██████████████████████████████▌                                          | 41879/100000 [00:08<00:09, 5929.92it/s]\u001b[A\u001b[A\n",
      "\n",
      " 43%|███████████████████████████████                                          | 42542/100000 [00:08<00:09, 6107.45it/s]\u001b[A\u001b[A\n",
      "\n",
      " 43%|███████████████████████████████▌                                         | 43158/100000 [00:08<00:09, 5795.48it/s]\u001b[A\u001b[A\n",
      "\n",
      " 44%|███████████████████████████████▉                                         | 43744/100000 [00:08<00:09, 5679.30it/s]\u001b[A\u001b[A\n",
      "\n",
      " 44%|████████████████████████████████▍                                        | 44396/100000 [00:08<00:09, 5907.23it/s]\u001b[A\u001b[A\n",
      "\n",
      " 45%|████████████████████████████████▊                                        | 45017/100000 [00:08<00:09, 5978.42it/s]\u001b[A\u001b[A\n",
      "\n",
      " 46%|█████████████████████████████████▎                                       | 45627/100000 [00:08<00:09, 6014.36it/s]\u001b[A\u001b[A\n",
      "\n",
      " 46%|█████████████████████████████████▋                                       | 46232/100000 [00:09<00:09, 5946.61it/s]\u001b[A\u001b[A\n",
      "\n",
      " 47%|██████████████████████████████████▏                                      | 46829/100000 [00:09<00:09, 5598.80it/s]\u001b[A\u001b[A\n",
      "\n",
      " 48%|██████████████████████████████████▋                                      | 47517/100000 [00:09<00:08, 5928.97it/s]\u001b[A\u001b[A\n",
      "\n",
      " 48%|███████████████████████████████████▏                                     | 48120/100000 [00:09<00:08, 5855.65it/s]\u001b[A\u001b[A\n",
      "\n",
      " 49%|███████████████████████████████████▌                                     | 48767/100000 [00:09<00:08, 6027.33it/s]\u001b[A\u001b[A\n",
      "\n",
      " 49%|████████████████████████████████████                                     | 49382/100000 [00:09<00:08, 6058.28it/s]\u001b[A\u001b[A\n",
      "\n",
      " 50%|████████████████████████████████████▍                                    | 49993/100000 [00:09<00:08, 5741.95it/s]\u001b[A\u001b[A\n",
      "\n",
      " 51%|████████████████████████████████████▉                                    | 50647/100000 [00:09<00:08, 5951.69it/s]\u001b[A\u001b[A\n",
      "\n",
      " 51%|█████████████████████████████████████▍                                   | 51316/100000 [00:09<00:07, 6155.40it/s]\u001b[A\u001b[A\n",
      "\n",
      " 52%|█████████████████████████████████████▉                                   | 52016/100000 [00:09<00:07, 6368.51it/s]\u001b[A\u001b[A\n",
      "\n",
      " 53%|██████████████████████████████████████▌                                  | 52754/100000 [00:10<00:07, 6624.50it/s]\u001b[A\u001b[A\n",
      "\n",
      " 53%|██████████████████████████████████████▉                                  | 53424/100000 [00:10<00:07, 6255.98it/s]\u001b[A\u001b[A\n",
      "\n",
      " 54%|███████████████████████████████████████▍                                 | 54059/100000 [00:10<00:07, 6173.91it/s]\u001b[A\u001b[A\n",
      "\n",
      " 55%|███████████████████████████████████████▉                                 | 54706/100000 [00:10<00:07, 6259.07it/s]\u001b[A\u001b[A\n",
      "\n",
      " 55%|████████████████████████████████████████▍                                | 55337/100000 [00:10<00:08, 5445.77it/s]\u001b[A\u001b[A\n",
      "\n",
      " 56%|████████████████████████████████████████▊                                | 55912/100000 [00:10<00:07, 5518.31it/s]\u001b[A\u001b[A\n",
      "\n",
      " 57%|█████████████████████████████████████████▎                               | 56550/100000 [00:10<00:07, 5744.28it/s]\u001b[A\u001b[A\n",
      "\n",
      " 57%|█████████████████████████████████████████▋                               | 57138/100000 [00:10<00:07, 5760.13it/s]\u001b[A\u001b[A\n",
      "\n",
      " 58%|██████████████████████████████████████████▏                              | 57805/100000 [00:10<00:07, 6005.87it/s]\u001b[A\u001b[A\n",
      "\n",
      " 58%|██████████████████████████████████████████▋                              | 58470/100000 [00:11<00:06, 6169.18it/s]\u001b[A\u001b[A\n",
      "\n",
      " 59%|███████████████████████████████████████████▏                             | 59095/100000 [00:11<00:06, 6065.84it/s]\u001b[A\u001b[A\n",
      "\n",
      " 60%|███████████████████████████████████████████▌                             | 59708/100000 [00:11<00:07, 5728.16it/s]\u001b[A\u001b[A\n",
      "\n",
      " 60%|████████████████████████████████████████████                             | 60439/100000 [00:11<00:06, 6110.49it/s]\u001b[A\u001b[A\n",
      "\n",
      " 61%|████████████████████████████████████████████▋                            | 61160/100000 [00:11<00:06, 6399.97it/s]\u001b[A\u001b[A\n",
      "\n",
      " 62%|█████████████████████████████████████████████▏                           | 61874/100000 [00:11<00:05, 6587.07it/s]\u001b[A\u001b[A\n",
      "\n",
      " 63%|█████████████████████████████████████████████▋                           | 62543/100000 [00:11<00:05, 6579.39it/s]\u001b[A\u001b[A\n",
      "\n",
      " 63%|██████████████████████████████████████████████▏                          | 63208/100000 [00:11<00:05, 6336.27it/s]\u001b[A\u001b[A\n",
      "\n",
      " 64%|██████████████████████████████████████████████▌                          | 63849/100000 [00:11<00:05, 6073.67it/s]\u001b[A\u001b[A\n",
      "\n",
      " 64%|███████████████████████████████████████████████                          | 64464/100000 [00:12<00:06, 5770.45it/s]\u001b[A\u001b[A\n",
      "\n",
      " 65%|███████████████████████████████████████████████▍                         | 65050/100000 [00:12<00:07, 4872.11it/s]\u001b[A\u001b[A\n",
      "\n",
      " 66%|███████████████████████████████████████████████▉                         | 65607/100000 [00:12<00:06, 5062.36it/s]\u001b[A\u001b[A\n",
      "\n",
      " 66%|████████████████████████████████████████████████▎                        | 66136/100000 [00:12<00:06, 4900.56it/s]\u001b[A\u001b[A\n",
      "\n",
      " 67%|████████████████████████████████████████████████▋                        | 66644/100000 [00:12<00:07, 4299.09it/s]\u001b[A\u001b[A\n",
      "\n",
      " 67%|████████████████████████████████████████████████▉                        | 67100/100000 [00:12<00:08, 3994.42it/s]\u001b[A\u001b[A\n",
      "\n",
      " 68%|█████████████████████████████████████████████████▎                       | 67616/100000 [00:12<00:07, 4274.17it/s]\u001b[A\u001b[A\n",
      "\n",
      " 68%|█████████████████████████████████████████████████▊                       | 68160/100000 [00:12<00:06, 4567.78it/s]\u001b[A\u001b[A\n",
      "\n",
      " 69%|██████████████████████████████████████████████████▏                      | 68748/100000 [00:13<00:06, 4883.89it/s]\u001b[A\u001b[A\n",
      "\n",
      " 69%|██████████████████████████████████████████████████▌                      | 69268/100000 [00:13<00:06, 4972.86it/s]\u001b[A\u001b[A\n",
      "\n",
      " 70%|███████████████████████████████████████████████████                      | 69893/100000 [00:13<00:05, 5285.67it/s]\u001b[A\u001b[A\n",
      "\n",
      " 70%|███████████████████████████████████████████████████▍                     | 70438/100000 [00:13<00:05, 5302.23it/s]\u001b[A\u001b[A\n",
      "\n",
      " 71%|███████████████████████████████████████████████████▉                     | 71074/100000 [00:13<00:05, 5566.50it/s]\u001b[A\u001b[A\n",
      "\n",
      " 72%|████████████████████████████████████████████████████▎                    | 71714/100000 [00:13<00:04, 5777.15it/s]\u001b[A\u001b[A\n",
      "\n",
      " 72%|████████████████████████████████████████████████████▊                    | 72366/100000 [00:13<00:04, 5964.54it/s]\u001b[A\u001b[A\n",
      "\n",
      " 73%|█████████████████████████████████████████████████████▎                   | 73017/100000 [00:13<00:04, 6101.24it/s]\u001b[A\u001b[A\n",
      "\n"
     ]
    },
    {
     "name": "stderr",
     "output_type": "stream",
     "text": [
      " 74%|█████████████████████████████████████████████████████▊                   | 73634/100000 [00:13<00:04, 6014.29it/s]\u001b[A\u001b[A\n",
      "\n",
      " 74%|██████████████████████████████████████████████████████▏                  | 74259/100000 [00:13<00:04, 6065.98it/s]\u001b[A\u001b[A\n",
      "\n",
      " 75%|██████████████████████████████████████████████████████▋                  | 74870/100000 [00:14<00:04, 5971.53it/s]\u001b[A\u001b[A\n",
      "\n",
      " 75%|███████████████████████████████████████████████████████                  | 75470/100000 [00:14<00:04, 5313.08it/s]\u001b[A\u001b[A\n",
      "\n",
      " 76%|███████████████████████████████████████████████████████▌                 | 76068/100000 [00:14<00:04, 5482.25it/s]\u001b[A\u001b[A\n",
      "\n",
      " 77%|███████████████████████████████████████████████████████▉                 | 76666/100000 [00:14<00:04, 5622.60it/s]\u001b[A\u001b[A\n",
      "\n",
      " 77%|████████████████████████████████████████████████████████▍                | 77270/100000 [00:14<00:03, 5729.50it/s]\u001b[A\u001b[A\n",
      "\n",
      " 78%|████████████████████████████████████████████████████████▉                | 77929/100000 [00:14<00:03, 5947.11it/s]\u001b[A\u001b[A\n",
      "\n",
      " 79%|█████████████████████████████████████████████████████████▎               | 78531/100000 [00:14<00:03, 5845.59it/s]\u001b[A\u001b[A\n",
      "\n",
      " 79%|█████████████████████████████████████████████████████████▊               | 79226/100000 [00:14<00:03, 6137.77it/s]\u001b[A\u001b[A\n",
      "\n",
      " 80%|██████████████████████████████████████████████████████████▎              | 79848/100000 [00:14<00:03, 6071.99it/s]\u001b[A\u001b[A\n",
      "\n",
      " 80%|██████████████████████████████████████████████████████████▋              | 80475/100000 [00:14<00:03, 6130.06it/s]\u001b[A\u001b[A\n",
      "\n",
      " 81%|███████████████████████████████████████████████████████████▏             | 81092/100000 [00:15<00:03, 5930.07it/s]\u001b[A\u001b[A\n",
      "\n",
      " 82%|███████████████████████████████████████████████████████████▋             | 81702/100000 [00:15<00:03, 5962.30it/s]\u001b[A\u001b[A\n",
      "\n",
      " 82%|████████████████████████████████████████████████████████████             | 82302/100000 [00:15<00:03, 5767.11it/s]\u001b[A\u001b[A\n",
      "\n",
      " 83%|████████████████████████████████████████████████████████████▌            | 82883/100000 [00:15<00:03, 5564.02it/s]\u001b[A\u001b[A\n",
      "\n",
      " 83%|████████████████████████████████████████████████████████████▉            | 83444/100000 [00:15<00:03, 5399.90it/s]\u001b[A\u001b[A\n",
      "\n",
      " 84%|█████████████████████████████████████████████████████████████▎           | 84000/100000 [00:15<00:02, 5431.55it/s]\u001b[A\u001b[A\n",
      "\n",
      " 85%|█████████████████████████████████████████████████████████████▋           | 84546/100000 [00:15<00:03, 4807.80it/s]\u001b[A\u001b[A\n",
      "\n",
      " 85%|██████████████████████████████████████████████████████████████▏          | 85144/100000 [00:15<00:02, 5095.13it/s]\u001b[A\u001b[A\n",
      "\n",
      " 86%|██████████████████████████████████████████████████████████████▌          | 85752/100000 [00:15<00:02, 5355.36it/s]\u001b[A\u001b[A\n",
      "\n",
      " 86%|███████████████████████████████████████████████████████████████          | 86396/100000 [00:16<00:02, 5631.70it/s]\u001b[A\u001b[A\n",
      "\n",
      " 87%|███████████████████████████████████████████████████████████████▌         | 87029/100000 [00:16<00:02, 5813.82it/s]\u001b[A\u001b[A\n",
      "\n",
      " 88%|████████████████████████████████████████████████████████████████         | 87703/100000 [00:16<00:02, 6050.00it/s]\u001b[A\u001b[A\n",
      "\n",
      " 88%|████████████████████████████████████████████████████████████████▍        | 88319/100000 [00:16<00:01, 5975.71it/s]\u001b[A\u001b[A\n",
      "\n",
      " 89%|████████████████████████████████████████████████████████████████▉        | 88924/100000 [00:16<00:01, 5791.71it/s]\u001b[A\u001b[A\n",
      "\n",
      " 90%|█████████████████████████████████████████████████████████████████▎       | 89510/100000 [00:16<00:01, 5794.18it/s]\u001b[A\u001b[A\n",
      "\n",
      " 90%|█████████████████████████████████████████████████████████████████▊       | 90153/100000 [00:16<00:01, 5955.41it/s]\u001b[A\u001b[A\n",
      "\n",
      " 91%|██████████████████████████████████████████████████████████████████▏      | 90753/100000 [00:16<00:01, 5375.21it/s]\u001b[A\u001b[A\n",
      "\n",
      " 91%|██████████████████████████████████████████████████████████████████▋      | 91305/100000 [00:16<00:01, 5335.17it/s]\u001b[A\u001b[A\n",
      "\n",
      " 92%|███████████████████████████████████████████████████████████████████      | 91911/100000 [00:17<00:01, 5524.51it/s]\u001b[A\u001b[A\n",
      "\n",
      " 92%|███████████████████████████████████████████████████████████████████▌     | 92477/100000 [00:17<00:01, 5548.92it/s]\u001b[A\u001b[A\n",
      "\n",
      " 93%|███████████████████████████████████████████████████████████████████▉     | 93038/100000 [00:17<00:01, 5422.54it/s]\u001b[A\u001b[A\n",
      "\n",
      " 94%|████████████████████████████████████████████████████████████████████▎    | 93586/100000 [00:17<00:01, 5262.55it/s]\u001b[A\u001b[A\n",
      "\n",
      " 94%|████████████████████████████████████████████████████████████████████▊    | 94192/100000 [00:17<00:01, 5478.48it/s]\u001b[A\u001b[A\n",
      "\n",
      " 95%|█████████████████████████████████████████████████████████████████████▏   | 94746/100000 [00:17<00:00, 5400.34it/s]\u001b[A\u001b[A\n",
      "\n",
      " 95%|█████████████████████████████████████████████████████████████████████▌   | 95376/100000 [00:17<00:00, 5626.95it/s]\u001b[A\u001b[A\n",
      "\n",
      " 96%|██████████████████████████████████████████████████████████████████████   | 95944/100000 [00:17<00:00, 5642.02it/s]\u001b[A\u001b[A\n",
      "\n",
      " 97%|██████████████████████████████████████████████████████████████████████▌  | 96620/100000 [00:17<00:00, 5920.98it/s]\u001b[A\u001b[A\n",
      "\n",
      " 97%|██████████████████████████████████████████████████████████████████████▉  | 97219/100000 [00:17<00:00, 5941.52it/s]\u001b[A\u001b[A\n",
      "\n",
      " 98%|███████████████████████████████████████████████████████████████████████▍ | 97818/100000 [00:18<00:00, 5885.71it/s]\u001b[A\u001b[A\n",
      "\n",
      " 98%|███████████████████████████████████████████████████████████████████████▊ | 98410/100000 [00:18<00:00, 5725.56it/s]\u001b[A\u001b[A\n",
      "\n",
      " 99%|████████████████████████████████████████████████████████████████████████▎| 99038/100000 [00:18<00:00, 5864.96it/s]\u001b[A\u001b[A\n",
      "\n",
      "100%|████████████████████████████████████████████████████████████████████████| 100000/100000 [00:18<00:00, 5419.17it/s]\u001b[A\u001b[A\n"
     ]
    }
   ],
   "source": [
    "agent = Q_BJAgent(env)\n",
    "TrainBJAgent(env, agent, numEpisodes=100000)"
   ]
  },
  {
   "cell_type": "code",
   "execution_count": 26,
   "metadata": {
    "scrolled": true
   },
   "outputs": [
    {
     "ename": "AttributeError",
     "evalue": "'Q_BJAgent' object has no attribute 'q_to_v'",
     "output_type": "error",
     "traceback": [
      "\u001b[1;31m---------------------------------------------------------------------------\u001b[0m",
      "\u001b[1;31mAttributeError\u001b[0m                            Traceback (most recent call last)",
      "\u001b[1;32m<ipython-input-26-d3fa34aff0f3>\u001b[0m in \u001b[0;36m<module>\u001b[1;34m\u001b[0m\n\u001b[0;32m      1\u001b[0m \u001b[1;31m# Convert from Q(s,a) to V(s) using the already implemented function, just run the things below to see the graphics output\u001b[0m\u001b[1;33m\u001b[0m\u001b[1;33m\u001b[0m\u001b[1;33m\u001b[0m\u001b[0m\n\u001b[0;32m      2\u001b[0m \u001b[1;31m# Nothing else to implement\u001b[0m\u001b[1;33m\u001b[0m\u001b[1;33m\u001b[0m\u001b[1;33m\u001b[0m\u001b[0m\n\u001b[1;32m----> 3\u001b[1;33m \u001b[0magent\u001b[0m\u001b[1;33m.\u001b[0m\u001b[0mq_to_v\u001b[0m\u001b[1;33m(\u001b[0m\u001b[1;33m)\u001b[0m\u001b[1;33m\u001b[0m\u001b[1;33m\u001b[0m\u001b[0m\n\u001b[0m\u001b[0;32m      4\u001b[0m \u001b[0mplot_blackjack_values\u001b[0m\u001b[1;33m(\u001b[0m\u001b[0magent\u001b[0m\u001b[1;33m.\u001b[0m\u001b[0mv\u001b[0m\u001b[1;33m)\u001b[0m\u001b[1;33m\u001b[0m\u001b[1;33m\u001b[0m\u001b[0m\n",
      "\u001b[1;31mAttributeError\u001b[0m: 'Q_BJAgent' object has no attribute 'q_to_v'"
     ]
    }
   ],
   "source": [
    "# Convert from Q(s,a) to V(s) using the already implemented function, just run the things below to see the graphics output\n",
    "# Nothing else to implement\n",
    "agent.q_to_v()\n",
    "plot_blackjack_values(agent.v)"
   ]
  },
  {
   "cell_type": "code",
   "execution_count": 69,
   "metadata": {},
   "outputs": [
    {
     "data": {
      "image/png": "[encoded data removed]",
      "text/plain": [
       "<Figure size 1080x1080 with 4 Axes>"
      ]
     },
     "metadata": {
      "needs_background": "light"
     },
     "output_type": "display_data"
    }
   ],
   "source": [
    "plot_policy(agent.policy)"
   ]
  },
  {
   "cell_type": "markdown",
   "metadata": {},
   "source": [
    "## Watch the trained agent play the game"
   ]
  },
  {
   "cell_type": "code",
   "execution_count": 34,
   "metadata": {},
   "outputs": [
    {
     "name": "stdout",
     "output_type": "stream",
     "text": [
      "***** Episode 0 ******\n",
      "[((16, 10, False), 0, -1.0), (16, 10, False)]\n",
      "***** Episode 1 ******\n",
      "[((20, 8, False), 0, 1.0), (20, 8, False)]\n",
      "***** Episode 2 ******\n",
      "[((12, 3, False), 1, -1.0), (22, 3, False)]\n",
      "***** Episode 3 ******\n",
      "[((20, 10, False), 0, 0.0), (20, 10, False)]\n",
      "***** Episode 4 ******\n",
      "[((18, 8, False), 0, 0.0), (18, 8, False)]\n",
      "***** Episode 5 ******\n",
      "[((18, 8, False), 0, 1.0), (18, 8, False)]\n",
      "***** Episode 6 ******\n",
      "[((20, 3, False), 0, 1.0), (20, 3, False)]\n",
      "***** Episode 7 ******\n",
      "[((19, 1, False), 0, 0.0), (19, 1, False)]\n",
      "***** Episode 8 ******\n",
      "[((7, 10, False), 1, 0.0), ((10, 10, False), 0, 1.0), (10, 10, False)]\n",
      "***** Episode 9 ******\n",
      "[((16, 10, False), 0, -1.0), (16, 10, False)]\n"
     ]
    }
   ],
   "source": [
    "numEpisodes = 10\n",
    "\n",
    "# agent = Q_BJAgent(env)\n",
    "for epIndex in range(numEpisodes):\n",
    "    print(f\"***** Episode {epIndex} ******\")\n",
    "    transitions = run_single_episode(agent)\n",
    "    print(transitions)"
   ]
  },
  {
   "cell_type": "markdown",
   "metadata": {},
   "source": [
    "## Challenges"
   ]
  },
  {
   "cell_type": "markdown",
   "metadata": {},
   "source": [
    "* Use MC to solve the other environments as well:\n",
    "    * FrozenLake-v0\n",
    "    * Taxi-v2\n",
    "    * Any other environments with discrete states and actions at [OpenAI Gym](https://github.com/openai/gym/wiki/Table-of-environments)"
   ]
  },
  {
   "cell_type": "code",
   "execution_count": null,
   "metadata": {},
   "outputs": [],
   "source": []
  }
 ],
 "metadata": {
  "kernelspec": {
   "display_name": "Python 3",
   "language": "python",
   "name": "python3"
  },
  "language_info": {
   "codemirror_mode": {
    "name": "ipython",
    "version": 3
   },
   "file_extension": ".py",
   "mimetype": "text/x-python",
   "name": "python",
   "nbconvert_exporter": "python",
   "pygments_lexer": "ipython3",
   "version": "3.7.7"
  },
  "pycharm": {
   "stem_cell": {
    "cell_type": "raw",
    "metadata": {
     "collapsed": false
    },
    "source": []
   }
  }
 },
 "nbformat": 4,
 "nbformat_minor": 2
}
