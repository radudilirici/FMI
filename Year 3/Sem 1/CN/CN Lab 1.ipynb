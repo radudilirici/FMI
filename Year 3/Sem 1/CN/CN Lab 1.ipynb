{
 "cells": [
  {
   "cell_type": "code",
   "execution_count": 1,
   "metadata": {},
   "outputs": [],
   "source": [
    "import numpy as np\n",
    "import matplotlib.pyplot as plt"
   ]
  },
  {
   "cell_type": "code",
   "execution_count": 3,
   "metadata": {},
   "outputs": [],
   "source": [
    "f = lambda x: x ** 3 - 4 * x + 1\n",
    "epsilon = 1e-5"
   ]
  },
  {
   "cell_type": "code",
   "execution_count": 13,
   "metadata": {},
   "outputs": [],
   "source": [
    "def eroare_relativa(x_nou, x_vechi):\n",
    "    if x_vechi != 0:\n",
    "        return np.abs( (x_nou - x_vechi) / x_vechi )\n",
    "    return None\n",
    "\n",
    "def metoda_bisectiei(f, a, b, N=None, epsilon=1e-5):\n",
    "    if not N:\n",
    "        N = int(np.log2((b - a) / epsilon) - 1)\n",
    "    x_num = (a + b) / 2\n",
    "    print(f'a0: {a}, b0: {b}, x0: {x_num}')\n",
    "    for k in range(1, N+1):\n",
    "        if f(x_num) == 0:\n",
    "            break\n",
    "        elif f(a) * f(x_num) < 0:\n",
    "            b = x_num\n",
    "        else:\n",
    "            a = x_num\n",
    "        aux = x_num\n",
    "        x_num = (a + b) / 2\n",
    "        \n",
    "        print()\n",
    "        print(f'a{k}: {a}, b{k}: {b}, x{k}: {x_num}')\n",
    "        print(f'er{k}: {eroare_relativa(x_num, aux)}')\n",
    "    \n",
    "    return x_num"
   ]
  },
  {
   "cell_type": "code",
   "execution_count": 14,
   "metadata": {},
   "outputs": [
    {
     "name": "stdout",
     "output_type": "stream",
     "text": [
      "a0: -3, b0: -2, x0: -2.5\n",
      "\n",
      "a1: -2.5, b1: -2, x1: -2.25\n",
      "er1: 0.1\n",
      "\n",
      "a2: -2.25, b2: -2, x2: -2.125\n",
      "er2: 0.05555555555555555\n"
     ]
    },
    {
     "data": {
      "text/plain": [
       "-2.125"
      ]
     },
     "execution_count": 14,
     "metadata": {},
     "output_type": "execute_result"
    }
   ],
   "source": [
    "metoda_bisectiei(f, -3, -2, 2)"
   ]
  },
  {
   "cell_type": "code",
   "execution_count": 36,
   "metadata": {},
   "outputs": [
    {
     "data": {
      "image/png": "[encoded data removed]",
      "text/plain": [
       "<Figure size 432x288 with 1 Axes>"
      ]
     },
     "metadata": {
      "needs_background": "light"
     },
     "output_type": "display_data"
    }
   ],
   "source": [
    "x = np.arange(0, 4, 0.01)\n",
    "plt.plot(x, f(x))\n",
    "plt.scatter(metoda_bisectiei(f, 0, 1, epsilon), 0)\n",
    "plt.scatter(metoda_bisectiei(f, 1, 3.2, epsilon), 0)\n",
    "plt.scatter(metoda_bisectiei(f, 3.2, 4, epsilon), 0)\n",
    "\n",
    "plt.legend(['f(x)', 'x_num']) # Adauga legenda\n",
    "plt.axvline(0, c='black') # Adauga axa OY\n",
    "plt.axhline(0, c='black') # Adauga axa OX\n",
    "plt.xlabel('x') # Label pentru axa OX\n",
    "plt.ylabel('y') # Label pentru axa OY\n",
    "plt.title('Metoda Bisectiei') # Titlul figurii\n",
    "plt.show() # Arata graficul"
   ]
  }
 ],
 "metadata": {
  "kernelspec": {
   "display_name": "Python 3",
   "language": "python",
   "name": "python3"
  },
  "language_info": {
   "codemirror_mode": {
    "name": "ipython",
    "version": 3
   },
   "file_extension": ".py",
   "mimetype": "text/x-python",
   "name": "python",
   "nbconvert_exporter": "python",
   "pygments_lexer": "ipython3",
   "version": "3.8.5"
  }
 },
 "nbformat": 4,
 "nbformat_minor": 4
}
