{
 "cells": [
  {
   "cell_type": "code",
   "execution_count": 1,
   "metadata": {},
   "outputs": [],
   "source": [
    "import numpy as np\n",
    "import matplotlib.pyplot as plt"
   ]
  },
  {
   "cell_type": "code",
   "execution_count": 11,
   "metadata": {},
   "outputs": [],
   "source": [
    "f = lambda x: x ** 3 - 7 * x ** 2 + 14 * x - 6\n",
    "df = lambda x: 3 * x ** 2 - 14 * x + 14\n",
    "epsilon = 1e-10"
   ]
  },
  {
   "cell_type": "code",
   "execution_count": 3,
   "metadata": {},
   "outputs": [],
   "source": [
    "# 0, 1, 3.2, 4 - punctele pt a si b\n",
    "def metoda_bisectiei(f, a, b, epsilon):\n",
    "    N = int(np.log2((b - a) / epsilon) - 1)\n",
    "    x_num = (a + b) / 2\n",
    "    for i in range(1, N + 1):\n",
    "        if f(x_num) == 0:\n",
    "            break\n",
    "        elif f(a) * f(x_num) < 0:\n",
    "            b = x_num\n",
    "        else:\n",
    "            a = x_num\n",
    "        x_num = (a + b) / 2\n",
    "    \n",
    "    return x_num"
   ]
  },
  {
   "cell_type": "code",
   "execution_count": 5,
   "metadata": {},
   "outputs": [],
   "source": [
    "# 0, 1.451, 2.333, 3.215, 4\n",
    "def metoda_Newton(f, df, x0, epsilon):\n",
    "    x_num = x0 - (f(x0) / df(x0))\n",
    "    N = 1\n",
    "    while abs(x_num - x0) / abs(x0) >= epsilon:\n",
    "        x0 = x_num\n",
    "        x_num = x0 - (f(x0) / df(x0))\n",
    "        N += 1\n",
    "    return x_num, N"
   ]
  },
  {
   "cell_type": "code",
   "execution_count": 17,
   "metadata": {},
   "outputs": [
    {
     "name": "stdout",
     "output_type": "stream",
     "text": [
      "(0.5857864376269049, 5)\n",
      "(3.000000000000003, 6)\n",
      "(3.4142135623731042, 6)\n",
      "\n",
      "(0.585786437626905, 6)\n",
      "(3.0000000000000138, 6)\n",
      "(3.4142135623730954, 7)\n"
     ]
    }
   ],
   "source": [
    "print(metoda_Newton(f, df, 1.451 / 2, epsilon))\n",
    "print(metoda_Newton(f, df, (2.333 + 3.215) / 2, epsilon))\n",
    "print(metoda_Newton(f, df, (3.215 + 4) / 2, epsilon))\n",
    "\n",
    "print()\n",
    "\n",
    "print(metoda_Newton(f, df, epsilon, epsilon))\n",
    "print(metoda_Newton(f, df, 2.333 + epsilon, epsilon))\n",
    "print(metoda_Newton(f, df, 4 - epsilon, epsilon))"
   ]
  }
 ],
 "metadata": {
  "kernelspec": {
   "display_name": "Python 3",
   "language": "python",
   "name": "python3"
  },
  "language_info": {
   "codemirror_mode": {
    "name": "ipython",
    "version": 3
   },
   "file_extension": ".py",
   "mimetype": "text/x-python",
   "name": "python",
   "nbconvert_exporter": "python",
   "pygments_lexer": "ipython3",
   "version": "3.8.5"
  }
 },
 "nbformat": 4,
 "nbformat_minor": 4
}
