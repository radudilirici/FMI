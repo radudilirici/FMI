{
 "cells": [
  {
   "cell_type": "code",
   "execution_count": 6,
   "id": "major-consent",
   "metadata": {},
   "outputs": [],
   "source": [
    "import numpy as np\n",
    "import matplotlib.pyplot as plt"
   ]
  },
  {
   "cell_type": "code",
   "execution_count": 39,
   "id": "prostate-lender",
   "metadata": {},
   "outputs": [],
   "source": [
    "def eroare_relativa(x_nou, x_vechi):\n",
    "    if x_vechi != 0:\n",
    "        return np.abs( (x_nou - x_vechi) / x_vechi )\n",
    "    return None\n",
    "\n",
    "def metoda_bisectiei(f, a, b, N=None):\n",
    "    if not N:\n",
    "        N = int(np.log2((b - a) / epsilon) - 1)\n",
    "    x_num = (a + b) / 2\n",
    "    print(f'a0: {a}, b0: {b}, x0: {x_num}')\n",
    "    for k in range(1, N+1):\n",
    "        if f(x_num) == 0:\n",
    "            break\n",
    "        elif f(a) * f(x_num) < 0:\n",
    "            b = x_num\n",
    "        else:\n",
    "            a = x_num\n",
    "        aux = x_num\n",
    "        x_num = (a + b) / 2\n",
    "        \n",
    "        print()\n",
    "        print(f'a{k}: {a}, b{k}: {b}, x{k}: {x_num}')\n",
    "        print(f'er{k}: {eroare_relativa(x_num, aux)}')\n",
    "    \n",
    "    return x_num\n",
    "\n",
    "def metoda_Newton(f, df, x0, N):\n",
    "    print(f'x0: {x0}')\n",
    "    x_num = x0\n",
    "    for k in range(1, N+1):\n",
    "        aux = x_num\n",
    "        x_num = x_num - (f(x_num) / df(x_num))\n",
    "        \n",
    "        print()\n",
    "        print(f'x{k}: {x_num}')\n",
    "        print(f'er{k}: {eroare_relativa(x_num, aux)}')\n",
    "        \n",
    "    return x_num, N\n",
    "\n",
    "def pozitie_falsa(f, a, b, N):\n",
    "    x = (a * f(b) - b * f(a)) / (f(b) - f(a))\n",
    "    print(f'x0: {x}')\n",
    "    for k in range(1, N+1):\n",
    "        if abs(f(x)) < 1e-15:\n",
    "            break\n",
    "        elif f(a) * f(x) < 0:\n",
    "            b = x\n",
    "        elif f(a) * f(x) > 0:\n",
    "            a = x\n",
    "        x_urm = (a * f(b) - b * f(a)) / (f(b) - f(a))\n",
    "        \n",
    "        print()\n",
    "        print(f'x{k}: {x_urm}')\n",
    "        print(f'er{k}: {eroare_relativa(x_urm, x)}')\n",
    "        \n",
    "        if abs(x_urm - x) / abs(x) < epsilon:\n",
    "            break\n",
    "            \n",
    "        x = x_urm\n",
    "\n",
    "    return x, N\n",
    "\n",
    "def secanta(f, a, b, x0, x1, N):\n",
    "    print(f'x0: {x0}, x1: {x1}')\n",
    "    for k in range(1, N+1):\n",
    "        if x0 == 0:  # verificam sa nu impartim la 0 la pasul urmator\n",
    "            if abs(f(x0)) < 1e-15:\n",
    "                return x0, N\n",
    "            else:\n",
    "                print('Eroare. Impartire la 0')\n",
    "                return None, None\n",
    "        if abs(x1 - x0) / abs(x0) < epsilon:\n",
    "            break\n",
    "        x2 = (x0 * f(x1) - x1 * f(x0)) / (f(x1) - f(x0))\n",
    "        if not a <= x2 <= b:\n",
    "            print('Introduceti alte valori pentru x0, x1')\n",
    "            return None, None\n",
    "        x0 = x1\n",
    "        x1 = x2\n",
    "        \n",
    "        print(f'x0: {x0}, x1: {x1}')\n",
    "        \n",
    "    return x1, N"
   ]
  },
  {
   "cell_type": "code",
   "execution_count": 18,
   "id": "presidential-federation",
   "metadata": {},
   "outputs": [],
   "source": [
    "def f(x):\n",
    "    return x ** 2 + 2 * x - 1\n",
    "def df(x):\n",
    "    return 2 * x + 2\n",
    "epsilon = 1e-5"
   ]
  },
  {
   "cell_type": "code",
   "execution_count": 38,
   "id": "structural-assembly",
   "metadata": {},
   "outputs": [
    {
     "name": "stdout",
     "output_type": "stream",
     "text": [
      "x0: -2.3333333333333335\n",
      "\n",
      "x1: -2.4\n",
      "er1: 0.028571428571428466\n",
      "\n",
      "x2: -2.411764705882353\n",
      "er2: 0.004901960784313708\n",
      "\n",
      "x3: -2.413793103448276\n",
      "er3: 0.0008410428931875814\n"
     ]
    },
    {
     "data": {
      "text/plain": [
       "(-2.413793103448276, 3)"
      ]
     },
     "execution_count": 38,
     "metadata": {},
     "output_type": "execute_result"
    }
   ],
   "source": [
    "pozitie_falsa(f, -3, -2, 3)"
   ]
  },
  {
   "cell_type": "code",
   "execution_count": 32,
   "id": "atmospheric-porcelain",
   "metadata": {},
   "outputs": [],
   "source": [
    "def gauss(A):\n",
    "    if np.linalg.det(A) < 1e-15:\n",
    "        print('determinantul e 0')\n",
    "        return np.array([])\n",
    "    n = A.shape[0]\n",
    "    for k in range(n-1):\n",
    "        for l in range(k+1, n):\n",
    "            A[l] = A[l] - (A[l,k] / A[k,k]) * A[k]\n",
    "    return A\n",
    "\n",
    "def gauss_pp(A, eps=1e-15):\n",
    "    delta = np.linalg.det(A)\n",
    "    if abs(delta) < eps:\n",
    "        print(\"Sistemul nu are solutie unica\")\n",
    "        return None, None\n",
    "    n = A.shape[0]\n",
    "    P = np.identity(n)\n",
    "    U = A.copy()\n",
    "    for k in range(n-1):\n",
    "        p = np.argmax(abs(A[k:,k])) + k\n",
    "        P[p], P[k] = P[k].copy(), P[p].copy()\n",
    "        U[p], U[k] = U[k].copy(), U[p].copy()\n",
    "        U[k+1:,k:] = U[k+1:,k:] - np.outer(U[k+1:,k] / U[k,k], [U[k,k:]])\n",
    "    return P, U\n",
    "\n",
    "def lu(A):\n",
    "    n = A.shape[0]\n",
    "    U = A.copy()\n",
    "    L = np.identity(n)\n",
    "    for k in range(n - 1):\n",
    "        L[k+1:,k] = U[k+1:, k] / U[k, k]\n",
    "        U[k+1:, k:] -= np.outer(L[k+1:, k], U[k,k:])\n",
    "        print()\n",
    "        print(L)\n",
    "        print(U)\n",
    "    return L, U"
   ]
  },
  {
   "cell_type": "code",
   "execution_count": 40,
   "id": "available-phone",
   "metadata": {},
   "outputs": [],
   "source": [
    "def gauss_pt(A, b, eps=1e-13):\n",
    "    delta = np.linalg.det(A)\n",
    "    if abs(delta) < eps:\n",
    "        print(\"Sistemul nu are solutie unica\")\n",
    "        return None, None, None\n",
    "    \n",
    "    n = A.shape[0]\n",
    "    P = np.identity(n)\n",
    "    U = A.copy()\n",
    "    c = b.copy()\n",
    "    ordine = np.array(range(n))\n",
    "    for k in range(n-1):\n",
    "        # aflam maximul din matricea din dreapta jos. functia ne returneaza numarul elementului \n",
    "        p = np.argmax(abs(U[k:,k:]))\n",
    "        pi = p // (n-k) + k  # calculam linia si coloana. (n-k) e nr de elemente de pe o linie din matricea selectata\n",
    "        pj = p % (n-k) + k\n",
    "        \n",
    "        # schimbam liniile intre ele\n",
    "        P[pi], P[k] = P[k].copy(), P[pi].copy()\n",
    "        U[pi], U[k] = U[k].copy(), U[pi].copy()\n",
    "        c[pi], c[k] = c[k].copy(), c[pi].copy()\n",
    "        \n",
    "        # schimbam coloanele pentru U si memoram schimbarea in `ordine`\n",
    "        U[:,pj], U[:,k] = U[:,k].copy(), U[:,pj].copy()\n",
    "        ordine[pj], ordine[k] = ordine[k], ordine[pj]\n",
    "        \n",
    "        for l in range(k+1, n):\n",
    "            c[l] = c[l] - (U[l,k] / U[k,k]) * c[k]\n",
    "            U[l] = U[l] - (U[l,k] / U[k,k]) * U[k]\n",
    "            \n",
    "    return P, U, c, ordine\n",
    "\n",
    "def get_x_gauss_pt(U, b, ordine):\n",
    "    n = U.shape[0]\n",
    "    y = np.zeros((n,1))\n",
    "    x = np.zeros((n,1))\n",
    "    for i in range(n - 1, -1, -1):\n",
    "        x[i,0] = (b[i] - U[i,i+1:]@x[i+1:]) / U[i,i]\n",
    "        \n",
    "    # aplicam permutarea pe x pentru ca solutiile sunt in alta ordine\n",
    "    x_ = np.zeros((n,1))\n",
    "    for i in range(n):\n",
    "        x_[ordine[i],0] = x[i,0]\n",
    "    \n",
    "    return x_"
   ]
  },
  {
   "cell_type": "code",
   "execution_count": 43,
   "id": "supreme-corporation",
   "metadata": {},
   "outputs": [],
   "source": [
    "A = np.array([[2., -1., -2.],\n",
    "              [4., 2., 0.],\n",
    "              [0., -2., -1.]])\n",
    "b = np.array([[1.],\n",
    "              [1.],\n",
    "              [1.]])"
   ]
  },
  {
   "cell_type": "code",
   "execution_count": 44,
   "id": "buried-diamond",
   "metadata": {},
   "outputs": [
    {
     "name": "stdout",
     "output_type": "stream",
     "text": [
      "[[ 0.625]\n",
      " [-0.75 ]\n",
      " [ 0.5  ]]\n"
     ]
    }
   ],
   "source": [
    "P, U, c, ordine = gauss_pt(A, b)\n",
    "if U is not None:\n",
    "    x = get_x_gauss_pt(U, c, ordine)\n",
    "    print(x)"
   ]
  }
 ],
 "metadata": {
  "kernelspec": {
   "display_name": "Python 3",
   "language": "python",
   "name": "python3"
  },
  "language_info": {
   "codemirror_mode": {
    "name": "ipython",
    "version": 3
   },
   "file_extension": ".py",
   "mimetype": "text/x-python",
   "name": "python",
   "nbconvert_exporter": "python",
   "pygments_lexer": "ipython3",
   "version": "3.8.5"
  }
 },
 "nbformat": 4,
 "nbformat_minor": 5
}
