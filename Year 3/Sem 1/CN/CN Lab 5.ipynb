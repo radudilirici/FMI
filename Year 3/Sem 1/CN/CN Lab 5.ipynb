{
 "cells": [
  {
   "cell_type": "code",
   "execution_count": 1,
   "metadata": {},
   "outputs": [],
   "source": [
    "import numpy as np"
   ]
  },
  {
   "cell_type": "code",
   "execution_count": 2,
   "metadata": {},
   "outputs": [],
   "source": [
    "A = np.array([[1e-7, 1.],\n",
    "              [1., 1.]])"
   ]
  },
  {
   "cell_type": "code",
   "execution_count": 3,
   "metadata": {},
   "outputs": [],
   "source": [
    "def gauss_pp(A, eps=1e-15):\n",
    "    delta = np.linalg.det(A)\n",
    "    if abs(delta) < eps:\n",
    "        print(\"Sistemul nu are solutie unica\")\n",
    "        return None, None\n",
    "    n = A.shape[0]\n",
    "    P = np.identity(n)\n",
    "    U = A.copy()\n",
    "    for k in range(n-1):\n",
    "        p = np.argmax(abs(A[k:,k])) + k\n",
    "        P[p], P[k] = P[k].copy(), P[p].copy()\n",
    "        U[p], U[k] = U[k].copy(), U[p].copy()\n",
    "        U[k+1:,k:] = U[k+1:,k:] - np.outer(U[k+1:,k] / U[k,k], [U[k,k:]])\n",
    "    return P, U"
   ]
  },
  {
   "cell_type": "code",
   "execution_count": 5,
   "metadata": {},
   "outputs": [
    {
     "data": {
      "text/plain": [
       "(array([[0., 1.],\n",
       "        [1., 0.]]),\n",
       " array([[1.       , 1.       ],\n",
       "        [0.       , 0.9999999]]))"
      ]
     },
     "execution_count": 5,
     "metadata": {},
     "output_type": "execute_result"
    }
   ],
   "source": [
    "gauss_pp(A, 1e-5)"
   ]
  },
  {
   "cell_type": "code",
   "execution_count": null,
   "metadata": {},
   "outputs": [],
   "source": []
  }
 ],
 "metadata": {
  "kernelspec": {
   "display_name": "Python 3",
   "language": "python",
   "name": "python3"
  },
  "language_info": {
   "codemirror_mode": {
    "name": "ipython",
    "version": 3
   },
   "file_extension": ".py",
   "mimetype": "text/x-python",
   "name": "python",
   "nbconvert_exporter": "python",
   "pygments_lexer": "ipython3",
   "version": "3.8.5"
  }
 },
 "nbformat": 4,
 "nbformat_minor": 4
}
