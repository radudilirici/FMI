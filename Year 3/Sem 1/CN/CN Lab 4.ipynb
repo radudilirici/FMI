{
 "cells": [
  {
   "cell_type": "code",
   "execution_count": 2,
   "metadata": {},
   "outputs": [],
   "source": [
    "import numpy as np"
   ]
  },
  {
   "cell_type": "code",
   "execution_count": 26,
   "metadata": {},
   "outputs": [],
   "source": [
    "# A = np.array([[1., 0., 0., 0.],\n",
    "#               [1., 0.524, 0.274, 0.144],\n",
    "#               [1., 1.047, 1.097, 1.148],\n",
    "#               [1., 1.57, 2.467, 3.876]])\n",
    "# b = np.array([[1],\n",
    "#               [0.866],\n",
    "#               [0.5],\n",
    "#               [0]])\n",
    "A = np.array([[1., 1., 5.],\n",
    "               [2., 17., 20.],\n",
    "               [2., 7., 13.]])\n",
    "b = np.array([[4.],\n",
    "               [33.],\n",
    "               [16.]])"
   ]
  },
  {
   "cell_type": "code",
   "execution_count": 29,
   "metadata": {},
   "outputs": [],
   "source": [
    "def gauss():\n",
    "    if abs(np.linalg.det(A)) < 1e-15:\n",
    "        print('determinantul e 0')\n",
    "        return np.array([])\n",
    "    n = A.shape[0]\n",
    "    for k in range(n-1):\n",
    "        print(A)\n",
    "        for l in range(k+1, n):\n",
    "            A[l] = A[l] - (A[l,k] / A[k,k]) * A[k]\n",
    "    return A"
   ]
  },
  {
   "cell_type": "code",
   "execution_count": 30,
   "metadata": {},
   "outputs": [
    {
     "name": "stdout",
     "output_type": "stream",
     "text": [
      "[[ 1.  1.  5.]\n",
      " [ 2. 17. 20.]\n",
      " [ 2.  7. 13.]]\n",
      "[[ 1.  1.  5.]\n",
      " [ 0. 15. 10.]\n",
      " [ 0.  5.  3.]]\n"
     ]
    },
    {
     "data": {
      "text/plain": [
       "array([[ 1.        ,  1.        ,  5.        ],\n",
       "       [ 0.        , 15.        , 10.        ],\n",
       "       [ 0.        ,  0.        , -0.33333333]])"
      ]
     },
     "execution_count": 30,
     "metadata": {},
     "output_type": "execute_result"
    }
   ],
   "source": [
    "gauss()\n",
    "\n",
    "# x = np.zeros((4,1))\n",
    "\n",
    "# for i in range(3, -1, -1):\n",
    "#     x[i,0] = (b[i] - U[i,i+1:]@x[i+1:]) / U[i,i]\n",
    "\n",
    "# print(x)"
   ]
  },
  {
   "cell_type": "code",
   "execution_count": 159,
   "metadata": {},
   "outputs": [],
   "source": [
    "def gauss2(A):\n",
    "    if np.linalg.det(A) < 1e-15:\n",
    "        print('determinantul e 0')\n",
    "        return np.array([])\n",
    "    n = A.shape[0]\n",
    "    for k in range(n-1):\n",
    "        A[k+1:,k:] = A[k+1:,k:] - np.outer(A[k+1:,k] / A[k,k], [A[k,k:]])\n",
    "    return A"
   ]
  },
  {
   "cell_type": "code",
   "execution_count": 160,
   "metadata": {},
   "outputs": [
    {
     "data": {
      "text/plain": [
       "array([[ 2, -1, -2],\n",
       "       [ 0,  4,  4],\n",
       "       [ 0,  0,  1]])"
      ]
     },
     "execution_count": 160,
     "metadata": {},
     "output_type": "execute_result"
    }
   ],
   "source": [
    "gauss2(A)"
   ]
  },
  {
   "cell_type": "code",
   "execution_count": 164,
   "metadata": {},
   "outputs": [
    {
     "name": "stdout",
     "output_type": "stream",
     "text": [
      "x\n",
      "[[-1.25]\n",
      " [ 4.5 ]\n",
      " [-3.  ]]\n",
      "A * x = y\n",
      "[[-1.]\n",
      " [ 6.]\n",
      " [-3.]]\n"
     ]
    }
   ],
   "source": [
    "U = gauss2(A)\n",
    "n = len(b)\n",
    "if abs(np.linalg.det(U)) < 1e-15:\n",
    "    print('det 0')\n",
    "else:\n",
    "    x = np.array([[float('nan')] for  _ in range(n)])\n",
    "    for i in range(n - 1, -1, -1):\n",
    "        x[i,0] = (b[i] - np.dot(U[i,i+1:], x[i+1:])) / U[i,i]\n",
    "    print('x')\n",
    "    print(x)\n",
    "\n",
    "print('A * x = y')\n",
    "print(np.dot(A, x))"
   ]
  }
 ],
 "metadata": {
  "kernelspec": {
   "display_name": "Python 3",
   "language": "python",
   "name": "python3"
  },
  "language_info": {
   "codemirror_mode": {
    "name": "ipython",
    "version": 3
   },
   "file_extension": ".py",
   "mimetype": "text/x-python",
   "name": "python",
   "nbconvert_exporter": "python",
   "pygments_lexer": "ipython3",
   "version": "3.8.5"
  }
 },
 "nbformat": 4,
 "nbformat_minor": 4
}
