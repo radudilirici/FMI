{
 "cells": [
  {
   "cell_type": "code",
   "execution_count": 1,
   "metadata": {},
   "outputs": [],
   "source": [
    "import numpy as np\n",
    "from math import sqrt"
   ]
  },
  {
   "cell_type": "markdown",
   "metadata": {},
   "source": [
    "## Exercitiul 1"
   ]
  },
  {
   "cell_type": "code",
   "execution_count": 17,
   "metadata": {},
   "outputs": [],
   "source": [
    "A = np.array([[1., 1., 5.],\n",
    "               [2., 17., 20.],\n",
    "               [2., 7., 13.]])\n",
    "b = np.array([[4.],\n",
    "               [33.],\n",
    "               [16.]])\n",
    "# A = np.array([[1., 0., 0., 0.],\n",
    "#               [1., 0.524, 0.274, 0.144],\n",
    "#               [1., 1.047, 1.097, 1.148],\n",
    "#               [1., 1.57, 2.467, 3.876]])\n",
    "# b = np.array([[0],\n",
    "#               [0.866],\n",
    "#               [0.5],\n",
    "#               [0]])"
   ]
  },
  {
   "cell_type": "code",
   "execution_count": 18,
   "metadata": {},
   "outputs": [],
   "source": [
    "def gauss_pt(A, b, eps=1e-13):\n",
    "    delta = np.linalg.det(A)\n",
    "    if abs(delta) < eps:\n",
    "        print(\"Sistemul nu are solutie unica\")\n",
    "        return None, None, None\n",
    "    \n",
    "    n = A.shape[0]\n",
    "    P = np.identity(n)\n",
    "    U = A.copy()\n",
    "    c = b.copy()\n",
    "    ordine = np.array(range(n))\n",
    "    for k in range(n-1):\n",
    "        print()\n",
    "        print(U)\n",
    "        print(c)\n",
    "        # aflam maximul din matricea din dreapta jos. functia ne returneaza numarul elementului \n",
    "        p = np.argmax(abs(U[k:,k:]))\n",
    "        pi = p // (n-k) + k  # calculam linia si coloana. (n-k) e nr de elemente de pe o linie din matricea selectata\n",
    "        pj = p % (n-k) + k\n",
    "        \n",
    "        # schimbam liniile intre ele\n",
    "        P[pi], P[k] = P[k].copy(), P[pi].copy()\n",
    "        U[pi], U[k] = U[k].copy(), U[pi].copy()\n",
    "        c[pi], c[k] = c[k].copy(), c[pi].copy()\n",
    "        \n",
    "        # schimbam coloanele pentru U si memoram schimbarea in `ordine`\n",
    "        U[:,pj], U[:,k] = U[:,k].copy(), U[:,pj].copy()\n",
    "        ordine[pj], ordine[k] = ordine[k], ordine[pj]\n",
    "        \n",
    "        for l in range(k+1, n):\n",
    "            c[l] = c[l] - (U[l,k] / U[k,k]) * c[k]\n",
    "            U[l] = U[l] - (U[l,k] / U[k,k]) * U[k]\n",
    "            \n",
    "    return P, U, c, ordine\n",
    "\n",
    "def get_x_gauss_pt(U, b, ordine):\n",
    "    n = U.shape[0]\n",
    "    y = np.zeros((n,1))\n",
    "    x = np.zeros((n,1))\n",
    "    for i in range(n - 1, -1, -1):\n",
    "        x[i,0] = (b[i] - U[i,i+1:]@x[i+1:]) / U[i,i]\n",
    "        \n",
    "    # aplicam permutarea pe x pentru ca solutiile sunt in alta ordine\n",
    "    x_ = np.zeros((n,1))\n",
    "    for i in range(n):\n",
    "        x_[ordine[i],0] = x[i,0]\n",
    "    \n",
    "    return x_"
   ]
  },
  {
   "cell_type": "code",
   "execution_count": 19,
   "metadata": {
    "scrolled": true
   },
   "outputs": [
    {
     "name": "stdout",
     "output_type": "stream",
     "text": [
      "\n",
      "[[ 1.  1.  5.]\n",
      " [ 2. 17. 20.]\n",
      " [ 2.  7. 13.]]\n",
      "[[ 4.]\n",
      " [33.]\n",
      " [16.]]\n",
      "\n",
      "[[20.   17.    2.  ]\n",
      " [ 0.   -3.25  0.5 ]\n",
      " [ 0.   -4.05  0.7 ]]\n",
      "[[33.  ]\n",
      " [-4.25]\n",
      " [-5.45]]\n",
      "[[0. 1. 0.]\n",
      " [0. 0. 1.]\n",
      " [1. 0. 0.]]\n",
      "[[20.        17.         2.       ]\n",
      " [ 0.        -4.05       0.7      ]\n",
      " [ 0.         0.        -0.0617284]]\n",
      "[[33.        ]\n",
      " [-5.45      ]\n",
      " [ 0.12345679]]\n",
      "[2 1 0]\n",
      "[[-2.]\n",
      " [ 1.]\n",
      " [ 1.]]\n"
     ]
    }
   ],
   "source": [
    "P, U, c, ordine = gauss_pt(A, b)\n",
    "print(P)\n",
    "print(U)\n",
    "print(c)\n",
    "print(ordine)\n",
    "if U is not None:\n",
    "    x = get_x_gauss_pt(U, c, ordine)\n",
    "    print(x)"
   ]
  },
  {
   "cell_type": "code",
   "execution_count": 548,
   "metadata": {
    "scrolled": true
   },
   "outputs": [
    {
     "name": "stdout",
     "output_type": "stream",
     "text": [
      "[[ 47.]\n",
      " [ 53.]\n",
      " [-89.]\n",
      " [-81.]]\n",
      "[[ True]\n",
      " [ True]\n",
      " [ True]\n",
      " [ True]]\n"
     ]
    }
   ],
   "source": [
    "print(A1@x)  # verificare\n",
    "print((A1@x - b1) < 1e-13)"
   ]
  },
  {
   "cell_type": "markdown",
   "metadata": {},
   "source": [
    "## Exercitiul 2"
   ]
  },
  {
   "cell_type": "code",
   "execution_count": 2,
   "metadata": {},
   "outputs": [],
   "source": [
    "A2 = np.array([[0., -1., 6., 9.],\n",
    "               [-7., -10., 9., 6.],\n",
    "               [-7., -3., -4., -6.],\n",
    "               [6., -4., -7., 8.]])"
   ]
  },
  {
   "cell_type": "code",
   "execution_count": 3,
   "metadata": {},
   "outputs": [],
   "source": [
    "def inversa(A, eps=1e-13):\n",
    "    delta = np.linalg.det(A)\n",
    "    if abs(delta) < eps:\n",
    "        print(\"Determinantul este 0\")\n",
    "        return None\n",
    "    \n",
    "    n = A.shape[0]\n",
    "    U = np.concatenate((A, np.identity(n)), axis=1)  # concatenam I la dreapta\n",
    "    for k in range(n):\n",
    "        p = np.argmax(abs(U[k:,k])) + k  # folosim pivotarea pentru a ne asigura ca nu impartim la 0 sau numere f mici\n",
    "        U[p], U[k] = U[k].copy(), U[p].copy()  # (puteam sa fac asta doar cand erau numere f mici)\n",
    "        \n",
    "        if U[k,k] == 0:  # daca peste tot este 0, nu avem la ce imparti\n",
    "            continue     # verific egalitatea cu == pentru ca valoarea e din matricea initiala\n",
    "        \n",
    "        U[k] /= U[k][k]  # facem elementele de pe diagonala principala egale cu 1\n",
    "        for l in range(n):\n",
    "            if l == k:   # modificam deasupra si dedesubtul liniei k astfel incat sa ramana 0-uri\n",
    "                continue # (aplicam acelasi algoritm ca la Gauss, doar ca si pe partea superioara)\n",
    "            U[l] = U[l] - U[l,k] * U[k]\n",
    "    \n",
    "    return U[:,n:]  # returnam doar jumatatea dreapta. cea din stanga e acum matricea identitate\n",
    "    "
   ]
  },
  {
   "cell_type": "code",
   "execution_count": 4,
   "metadata": {},
   "outputs": [
    {
     "name": "stdout",
     "output_type": "stream",
     "text": [
      "[[-0.18860819  0.06386317 -0.18452848  0.02589048]\n",
      " [ 0.178252   -0.1219206   0.07955437 -0.04942727]\n",
      " [-0.06464773  0.06182332 -0.10983838 -0.05601757]\n",
      " [ 0.17401538 -0.05476228  0.08206496  0.03185313]]\n"
     ]
    }
   ],
   "source": [
    "print(inversa(A2))"
   ]
  },
  {
   "cell_type": "code",
   "execution_count": 5,
   "metadata": {},
   "outputs": [
    {
     "name": "stdout",
     "output_type": "stream",
     "text": [
      "[[ 1.00000000e+00  0.00000000e+00  0.00000000e+00  0.00000000e+00]\n",
      " [ 3.33066907e-16  1.00000000e+00  1.11022302e-16  1.11022302e-16]\n",
      " [ 0.00000000e+00  0.00000000e+00  1.00000000e+00 -1.38777878e-17]\n",
      " [ 1.11022302e-16 -1.45716772e-16 -1.11022302e-16  1.00000000e+00]]\n"
     ]
    }
   ],
   "source": [
    "print(A2@inversa(A2))  # verificare. se observa mici erori de calcul"
   ]
  },
  {
   "cell_type": "code",
   "execution_count": 6,
   "metadata": {},
   "outputs": [
    {
     "name": "stdout",
     "output_type": "stream",
     "text": [
      "[[1. 0. 0. 0.]\n",
      " [0. 1. 0. 0.]\n",
      " [0. 0. 1. 0.]\n",
      " [0. 0. 0. 1.]]\n"
     ]
    }
   ],
   "source": [
    "aux = A2@inversa(A2)  # transformam valorile f mici in 0 pentru o vizualizare mai buna\n",
    "aux[aux < 1e-13] = 0\n",
    "print(aux)  # care e egal cu I"
   ]
  },
  {
   "cell_type": "markdown",
   "metadata": {},
   "source": [
    "## Exercitiul 3\n",
    "\n",
    "Folosim factorizarea LU facuta la laborator."
   ]
  },
  {
   "cell_type": "code",
   "execution_count": 3,
   "metadata": {},
   "outputs": [],
   "source": [
    "A3 = np.array([[2., 3., 1.],\n",
    "               [4., 8., 5.],\n",
    "               [-4., 0., 10.]])\n",
    "b3 = np.array([[5.],\n",
    "               [8.],\n",
    "               [20.]])"
   ]
  },
  {
   "cell_type": "code",
   "execution_count": 8,
   "metadata": {},
   "outputs": [],
   "source": [
    "def lu_piv(A, eps=1e-13):\n",
    "    delta = np.linalg.det(A)\n",
    "    if abs(delta) < eps:\n",
    "        print(\"Sistemul nu are solutie unica\")\n",
    "        return None, None, None\n",
    "    \n",
    "    n = A.shape[0]\n",
    "    P = np.identity(n)\n",
    "    U = A.copy()\n",
    "    L = np.zeros((n,n))\n",
    "    for k in range(n - 1):\n",
    "        p = np.argmax(U[k:,k]) + k\n",
    "        \n",
    "        U[p], U[k] = U[k].copy(), U[p].copy()\n",
    "        P[p], P[k] = P[k].copy(), P[p].copy()\n",
    "        L[p], L[k] = L[k].copy(), L[p].copy()\n",
    "        \n",
    "        L[k+1:,k] = U[k+1:, k] / U[k, k]\n",
    "        U[k+1:, k:] -= np.outer(L[k+1:, k], U[k,k:])\n",
    "        \n",
    "    L += np.identity(n)\n",
    "    \n",
    "    # verificare\n",
    "    if ((P@A - L@U) >= eps).any():\n",
    "        print(\"Eroare la calcul\")\n",
    "    \n",
    "    return P, L, U\n",
    "\n",
    "def get_x_lu_piv(P, L, U, b):\n",
    "    n = U.shape[0]\n",
    "    y = np.zeros((n,1))\n",
    "    x = np.zeros((n,1))\n",
    "    Pb = P@b\n",
    "    # P @ A @ x = P @ b <=>\n",
    "    # L @ U @ x = P @ b\n",
    "    # y = U @ x =>\n",
    "    # y = subs asc (L, Pb)\n",
    "    for i in range(0, n):\n",
    "        y[i,0] = (Pb[i] - L[i,:i]@y[:i]) / L[i,i]\n",
    "        print('---')\n",
    "        print(y)\n",
    "    print(y)\n",
    "    # x = subs desc (U, y)\n",
    "    for i in range(n - 1, -1, -1):\n",
    "        x[i,0] = (y[i] - U[i,i+1:]@x[i+1:]) / U[i,i]\n",
    "    return x"
   ]
  },
  {
   "cell_type": "code",
   "execution_count": 9,
   "metadata": {},
   "outputs": [
    {
     "name": "stdout",
     "output_type": "stream",
     "text": [
      "[[0. 1. 0.]\n",
      " [0. 0. 1.]\n",
      " [1. 0. 0.]]\n",
      "[[ 1.     0.     0.   ]\n",
      " [-1.     1.     0.   ]\n",
      " [ 0.5   -0.125  1.   ]]\n",
      "[[ 4.     8.     5.   ]\n",
      " [ 0.     8.    15.   ]\n",
      " [ 0.     0.     0.375]]\n",
      "---\n",
      "[[8.]\n",
      " [0.]\n",
      " [0.]]\n",
      "---\n",
      "[[ 8.]\n",
      " [28.]\n",
      " [ 0.]]\n",
      "---\n",
      "[[ 8. ]\n",
      " [28. ]\n",
      " [ 4.5]]\n",
      "[[ 8. ]\n",
      " [28. ]\n",
      " [ 4.5]]\n",
      "[[ 25.]\n",
      " [-19.]\n",
      " [ 12.]]\n"
     ]
    }
   ],
   "source": [
    "P, L, U = lu_piv(A3)\n",
    "print(P)\n",
    "print(L)\n",
    "print(U)\n",
    "if U is not None:\n",
    "    x = get_x_lu_piv(P, L , U, b3)\n",
    "print(x)"
   ]
  },
  {
   "cell_type": "code",
   "execution_count": 557,
   "metadata": {
    "scrolled": false
   },
   "outputs": [
    {
     "name": "stdout",
     "output_type": "stream",
     "text": [
      "[[  3.]\n",
      " [ 15.]\n",
      " [-12.]\n",
      " [ 69.]]\n",
      "[[ True]\n",
      " [ True]\n",
      " [ True]\n",
      " [ True]]\n"
     ]
    }
   ],
   "source": [
    "print(A3@x)  # verificare\n",
    "print((A3@x - b3) < 1e-13)"
   ]
  },
  {
   "cell_type": "markdown",
   "metadata": {},
   "source": [
    "## Exercitiul 4"
   ]
  },
  {
   "cell_type": "code",
   "execution_count": 560,
   "metadata": {},
   "outputs": [],
   "source": [
    "A4 = np.array([[49., 21., -63., 21.],\n",
    "               [21., 13., -11., 7.],\n",
    "               [-63., -11., 209., 45.],\n",
    "               [21., 7., 45., 126.]])"
   ]
  },
  {
   "cell_type": "code",
   "execution_count": 561,
   "metadata": {},
   "outputs": [],
   "source": [
    "def cholesky(A, eps=1e-15):\n",
    "    n = A.shape[0]\n",
    "    \n",
    "    # conditiile sunt ca A sa fie simetrica si pozitiv definita\n",
    "    if (A != A.T).any():\n",
    "        print(\"Conditiile nu sunt indeplinite\")\n",
    "        return None\n",
    "    # aplicam criteriul lui Sylvester\n",
    "    for k in range(n):\n",
    "        delta = np.linalg.det(A[:k,:k])\n",
    "        if abs(delta) < eps:\n",
    "            print(\"Conditiile nu sunt indeplinite\")\n",
    "            return None\n",
    "    \n",
    "    # algoritmul din curs (metoda I)\n",
    "    L = np.zeros((n,n))\n",
    "    for k in range(n):\n",
    "        L[k,k] = sqrt(A[k,k] - sum(L[k,:k] ** 2))\n",
    "        for i in range(k+1, n):\n",
    "            L[i,k] = (A[i,k] - L[i,:k]@L[k,:k]) / L[k,k]\n",
    "            \n",
    "    return L"
   ]
  },
  {
   "cell_type": "code",
   "execution_count": 562,
   "metadata": {},
   "outputs": [
    {
     "name": "stdout",
     "output_type": "stream",
     "text": [
      "[[ 7.  0.  0.  0.]\n",
      " [ 3.  2.  0.  0.]\n",
      " [-9.  8.  8.  0.]\n",
      " [ 3. -1. 10.  4.]]\n"
     ]
    }
   ],
   "source": [
    "L = cholesky(A4)\n",
    "print(L)"
   ]
  },
  {
   "cell_type": "code",
   "execution_count": 563,
   "metadata": {},
   "outputs": [
    {
     "name": "stdout",
     "output_type": "stream",
     "text": [
      "[[ 49.  21. -63.  21.]\n",
      " [ 21.  13. -11.   7.]\n",
      " [-63. -11. 209.  45.]\n",
      " [ 21.   7.  45. 126.]]\n",
      "[[ True  True  True  True]\n",
      " [ True  True  True  True]\n",
      " [ True  True  True  True]\n",
      " [ True  True  True  True]]\n"
     ]
    }
   ],
   "source": [
    "print(L@L.T) # verificare\n",
    "print((L@L.T - A4) < 1e-13)"
   ]
  }
 ],
 "metadata": {
  "kernelspec": {
   "display_name": "Python 3",
   "language": "python",
   "name": "python3"
  },
  "language_info": {
   "codemirror_mode": {
    "name": "ipython",
    "version": 3
   },
   "file_extension": ".py",
   "mimetype": "text/x-python",
   "name": "python",
   "nbconvert_exporter": "python",
   "pygments_lexer": "ipython3",
   "version": "3.8.5"
  }
 },
 "nbformat": 4,
 "nbformat_minor": 4
}
