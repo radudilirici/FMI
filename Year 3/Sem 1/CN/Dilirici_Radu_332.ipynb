{
 "cells": [
  {
   "cell_type": "code",
   "execution_count": 84,
   "id": "extensive-cricket",
   "metadata": {},
   "outputs": [],
   "source": [
    "import numpy as np\n",
    "from math import sqrt\n",
    "import matplotlib.pyplot as plt"
   ]
  },
  {
   "cell_type": "code",
   "execution_count": 85,
   "id": "portuguese-registrar",
   "metadata": {},
   "outputs": [],
   "source": [
    "# Ex 1"
   ]
  },
  {
   "cell_type": "code",
   "execution_count": 86,
   "id": "short-instruction",
   "metadata": {},
   "outputs": [],
   "source": [
    "A = np.array([[25., 15., -5.],\n",
    "              [15., 18., 0.],\n",
    "              [-5., 0., 11.]])\n",
    "b = np.array([[1],\n",
    "              [2],\n",
    "              [3]])"
   ]
  },
  {
   "cell_type": "code",
   "execution_count": 87,
   "id": "structured-gentleman",
   "metadata": {},
   "outputs": [],
   "source": [
    "# a)\n",
    "\n",
    "def cholesky(A, eps=1e-15):\n",
    "    n = A.shape[0]\n",
    "    \n",
    "    # verificam ca A sa fie simetrica\n",
    "    if (A != A.T).any():\n",
    "        print(\"Conditiile nu sunt indeplinite\")\n",
    "        return None\n",
    "    # aplicam criteriul lui Sylvester pentru a verifica daca e pozitiv definita\n",
    "    for k in range(n):\n",
    "        delta = np.linalg.det(A[:k,:k])\n",
    "        if abs(delta) < eps:\n",
    "            print(\"Conditiile nu sunt indeplinite\")\n",
    "            return None\n",
    "    \n",
    "    L = np.zeros((n,n))\n",
    "    for k in range(n):\n",
    "        L[k,k] = sqrt(A[k,k] - sum(L[k,:k] ** 2))\n",
    "        for i in range(k+1, n):\n",
    "            L[i,k] = (A[i,k] - L[i,:k]@L[k,:k]) / L[k,k]\n",
    "            \n",
    "    return L"
   ]
  },
  {
   "cell_type": "code",
   "execution_count": 67,
   "id": "unique-movie",
   "metadata": {},
   "outputs": [
    {
     "name": "stdout",
     "output_type": "stream",
     "text": [
      "[[ 5.  0.  0.]\n",
      " [ 3.  3.  0.]\n",
      " [-1.  1.  3.]]\n",
      "[[25. 15. -5.]\n",
      " [15. 18.  0.]\n",
      " [-5.  0. 11.]]\n"
     ]
    }
   ],
   "source": [
    "L = cholesky(A)\n",
    "print(L)\n",
    "print(L@L.T)  # verificare"
   ]
  },
  {
   "cell_type": "code",
   "execution_count": 88,
   "id": "stylish-interim",
   "metadata": {},
   "outputs": [
    {
     "name": "stdout",
     "output_type": "stream",
     "text": [
      "[[0.06814815]\n",
      " [0.05432099]\n",
      " [0.3037037 ]]\n"
     ]
    }
   ],
   "source": [
    "# b)\n",
    "\n",
    "n = 3\n",
    "y = np.zeros((n,1))\n",
    "x = np.zeros((n,1))\n",
    "\n",
    "# Pentru a calcula y rezolvam sistemul L@y = b\n",
    "# Folosim substitutia ascendenta pentru ca L este triungiular superioara\n",
    "for i in range(n):\n",
    "    y[i,0] = (b[i] - L[i,:i]@y[:i]) / L[i,i]\n",
    "\n",
    "# Pentru a calcula y rezolvam sistemul L.T@x = y\n",
    "# Folosim substitutia descendenta pentru ca L.T este triungiular inferioara\n",
    "for i in range(n - 1, -1, -1):\n",
    "    x[i,0] = (y[i] - L.T[i,i+1:]@x[i+1:]) / L.T[i,i]\n",
    "\n",
    "print(x)"
   ]
  },
  {
   "cell_type": "code",
   "execution_count": 98,
   "id": "turned-virus",
   "metadata": {},
   "outputs": [
    {
     "name": "stdout",
     "output_type": "stream",
     "text": [
      "[[1.]\n",
      " [2.]\n",
      " [3.]]\n"
     ]
    }
   ],
   "source": [
    "print(A@x) # verificare"
   ]
  },
  {
   "cell_type": "code",
   "execution_count": 90,
   "id": "discrete-cricket",
   "metadata": {},
   "outputs": [],
   "source": [
    "# Ex 2"
   ]
  },
  {
   "cell_type": "code",
   "execution_count": 91,
   "id": "senior-speaker",
   "metadata": {},
   "outputs": [],
   "source": [
    "def f(x):\n",
    "    return x ** 3 + 8 * x ** 2 - 13 * x - 140\n",
    "\n",
    "def df(x):\n",
    "    return 3 * x ** 2 + 16 * x - 13\n",
    "\n",
    "def ddf(x):\n",
    "    return 6 * x + 16\n",
    "\n",
    "eps = 1e-3"
   ]
  },
  {
   "cell_type": "code",
   "execution_count": 92,
   "id": "recreational-swimming",
   "metadata": {},
   "outputs": [],
   "source": [
    "def newton_raphson(f, df, x0, epsilon):\n",
    "    x_aprox = x0 - (f(x0) / df(x0))\n",
    "    N = 1\n",
    "    while abs(x_aprox - x0) / abs(x0) >= epsilon:\n",
    "        x0 = x_aprox\n",
    "        x_aprox = x0 - (f(x0) / df(x0))\n",
    "        N += 1\n",
    "    return x_aprox, N"
   ]
  },
  {
   "cell_type": "code",
   "execution_count": 93,
   "id": "amateur-christianity",
   "metadata": {},
   "outputs": [
    {
     "data": {
      "image/png": "[encoded data removed]",
      "text/plain": [
       "<Figure size 432x288 with 1 Axes>"
      ]
     },
     "metadata": {
      "needs_background": "light"
     },
     "output_type": "display_data"
    }
   ],
   "source": [
    "x_gr = np.linspace(-8, 5, 100)\n",
    "y = f(x_gr)\n",
    "dy = df(x_gr)\n",
    "ddy = ddf(x_gr)\n",
    "\n",
    "plt.axvline(0, c='black') # Adauga axa OY\n",
    "plt.axhline(0, c='black') # Adauga axa OX\n",
    "\n",
    "plt.plot(x_gr, y, label=\"f(x)\")\n",
    "plt.plot(x_gr, dy, label=\"f'(x)\")\n",
    "plt.plot(x_gr, ddy, label=\"f''(x)\")\n",
    "\n",
    "plt.legend()\n",
    "plt.show()"
   ]
  },
  {
   "cell_type": "code",
   "execution_count": 94,
   "id": "qualified-spread",
   "metadata": {},
   "outputs": [],
   "source": [
    "# f'(x) se anuleaza in -6 si in intervalul (0, 1)\n",
    "# f''(x) se anuleaza in -16 / 6 = -2.(6)\n",
    "\n",
    "# trebuie sa alegem intervale [a,b] in care f' si f'' nu se anuleaza\n",
    "# iar f(a) * f(b) < 0\n",
    "# in interval alegem x0 astfel incat f(x) * f''(x) > 0\n",
    "\n",
    "# putem alege intervalele [-8, -6.1], [-5.9, -2.7], [1, 6]\n",
    "# pentru acestea alegem x0 = -8, -3, respectiv 2"
   ]
  },
  {
   "cell_type": "code",
   "execution_count": 95,
   "id": "close-recording",
   "metadata": {},
   "outputs": [
    {
     "name": "stdout",
     "output_type": "stream",
     "text": [
      "(-7.000000454515764, 4)\n",
      "(-4.999999920376763, 4)\n",
      "(4.000000045108168, 5)\n"
     ]
    }
   ],
   "source": [
    "print(newton_raphson(f, df, -8, eps))\n",
    "print(newton_raphson(f, df, -3, eps))\n",
    "print(newton_raphson(f, df, 2, eps))"
   ]
  },
  {
   "cell_type": "code",
   "execution_count": 96,
   "id": "distinguished-helping",
   "metadata": {},
   "outputs": [
    {
     "name": "stdout",
     "output_type": "stream",
     "text": [
      "0\n",
      "0\n",
      "0\n"
     ]
    }
   ],
   "source": [
    "# solutiile sunt -7, -5, 4\n",
    "# verificam\n",
    "\n",
    "print(f(-7))\n",
    "print(f(-5))\n",
    "print(f(4))"
   ]
  },
  {
   "cell_type": "code",
   "execution_count": 99,
   "id": "independent-nerve",
   "metadata": {},
   "outputs": [
    {
     "data": {
      "image/png": "[encoded data removed]",
      "text/plain": [
       "<Figure size 432x288 with 1 Axes>"
      ]
     },
     "metadata": {
      "needs_background": "light"
     },
     "output_type": "display_data"
    }
   ],
   "source": [
    "#adaugam punctele pe grafic\n",
    "\n",
    "plt.axvline(0, c='black') # Adauga axa OY\n",
    "plt.axhline(0, c='black') # Adauga axa OX\n",
    "\n",
    "plt.plot(x_gr, y, label=\"f(x)\")\n",
    "plt.scatter(-7, f(-7))\n",
    "plt.scatter(-5, f(-5))\n",
    "plt.scatter(4, f(4))\n",
    "\n",
    "plt.legend()\n",
    "plt.show()"
   ]
  }
 ],
 "metadata": {
  "kernelspec": {
   "display_name": "Python 3",
   "language": "python",
   "name": "python3"
  },
  "language_info": {
   "codemirror_mode": {
    "name": "ipython",
    "version": 3
   },
   "file_extension": ".py",
   "mimetype": "text/x-python",
   "name": "python",
   "nbconvert_exporter": "python",
   "pygments_lexer": "ipython3",
   "version": "3.8.5"
  }
 },
 "nbformat": 4,
 "nbformat_minor": 5
}
