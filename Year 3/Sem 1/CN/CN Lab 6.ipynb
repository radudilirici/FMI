{
 "cells": [
  {
   "cell_type": "code",
   "execution_count": 1,
   "metadata": {},
   "outputs": [],
   "source": [
    "import numpy as np"
   ]
  },
  {
   "cell_type": "code",
   "execution_count": 2,
   "metadata": {},
   "outputs": [],
   "source": [
    "A = np.array([[2., 3., 1.],\n",
    "              [4., 8., 5.],\n",
    "              [-4., 0., 10.]])"
   ]
  },
  {
   "cell_type": "code",
   "execution_count": 3,
   "metadata": {},
   "outputs": [],
   "source": [
    "def lu(A):\n",
    "    n = A.shape[0]\n",
    "    U = A.copy()\n",
    "    L = np.identity(n)\n",
    "    for k in range(n - 1):\n",
    "        L[k+1:,k] = U[k+1:, k] / U[k, k]\n",
    "        U[k+1:, k:] -= np.outer(L[k+1:, k], U[k,k:])\n",
    "    return L, U"
   ]
  },
  {
   "cell_type": "code",
   "execution_count": 4,
   "metadata": {},
   "outputs": [
    {
     "data": {
      "text/plain": [
       "(array([[ 1.,  0.,  0.],\n",
       "        [ 2.,  1.,  0.],\n",
       "        [-2.,  3.,  1.]]),\n",
       " array([[2., 3., 1.],\n",
       "        [0., 2., 3.],\n",
       "        [0., 0., 3.]]))"
      ]
     },
     "execution_count": 4,
     "metadata": {},
     "output_type": "execute_result"
    }
   ],
   "source": [
    "lu(A)"
   ]
  }
 ],
 "metadata": {
  "kernelspec": {
   "display_name": "Python 3",
   "language": "python",
   "name": "python3"
  },
  "language_info": {
   "codemirror_mode": {
    "name": "ipython",
    "version": 3
   },
   "file_extension": ".py",
   "mimetype": "text/x-python",
   "name": "python",
   "nbconvert_exporter": "python",
   "pygments_lexer": "ipython3",
   "version": "3.8.5"
  }
 },
 "nbformat": 4,
 "nbformat_minor": 4
}
