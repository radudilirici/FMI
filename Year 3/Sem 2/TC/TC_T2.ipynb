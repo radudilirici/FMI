{
 "metadata": {
  "language_info": {
   "codemirror_mode": {
    "name": "ipython",
    "version": 3
   },
   "file_extension": ".py",
   "mimetype": "text/x-python",
   "name": "python",
   "nbconvert_exporter": "python",
   "pygments_lexer": "ipython3",
   "version": "3.7.3"
  },
  "orig_nbformat": 2,
  "kernelspec": {
   "name": "python373jvsc74a57bd05be06135cf5fcf941f03afc184e0dae2796b0756fb4fd23805b6693c57e5f2b7",
   "display_name": "Python 3.7.3 32-bit"
  },
  "metadata": {
   "interpreter": {
    "hash": "5be06135cf5fcf941f03afc184e0dae2796b0756fb4fd23805b6693c57e5f2b7"
   }
  }
 },
 "nbformat": 4,
 "nbformat_minor": 2,
 "cells": [
  {
   "source": [
    "# Tehnici de Compilare: Tema 2 Problema 2 \n",
    "## Dilirici Radu (332.1)\n",
    "## Surcea Mihai-Daniel (332.1)\n",
    "\n",
    "### Cerinta:\n",
    "* Sa se scrie un program care primeste la intrare elementele unei gramatici independente de context oarecare, G, inclusiv cu 𝜆-productii pentru care:\n",
    "    * calculeaza multimile First(X), Follow(X), pentru fiecare simbol X terminal sau neterminal\n",
    "    * elimina recursivitatea la stanga (pentru gramatici fără 𝜆-producții)\n",
    "    * factorizează stânga gramatica G."
   ],
   "cell_type": "markdown",
   "metadata": {}
  },
  {
   "cell_type": "code",
   "execution_count": 1,
   "metadata": {},
   "outputs": [],
   "source": [
    "import numpy as np\n",
    "from pprint import pprint\n",
    "from string import ascii_letters\n",
    "\n",
    "def MaxPrefix(v, step, mx):\n",
    "    # scrisa cu ajutorul https://www.geeksforgeeks.org/longest-string-which-is-prefix-string-of-at-least-two-strings/\n",
    "    prefix = ''\n",
    "\n",
    "    for c in ascii_letters:\n",
    "        v1 = []\n",
    "        \n",
    "        for j in range(len(v)):\n",
    "            if len(v[j]) > step:\n",
    "                if v[j][step] == c:\n",
    "                    v1.append(v[j])\n",
    "            \n",
    "        if len(v1) >= 2:\n",
    "            mx_aux, prefix_aux = MaxPrefix(v1, step + 1, mx)\n",
    "            if mx_aux > mx:\n",
    "                mx = mx_aux\n",
    "                prefix = prefix_aux\n",
    "        else:\n",
    "            if step > mx:\n",
    "                mx = step\n",
    "                prefix = v[0][:step]\n",
    "            \n",
    "    return mx, prefix\n",
    "\n",
    "class GIC: # Clasa Gamaticilor Independente de Context\n",
    "    LAMBDA  = ''\n",
    "    LAMBDAF = '#'\n",
    "    VerifyDefault=True\n",
    "\n",
    "    def __init__(self, N, Sigma, P, S='S', isLambda=True, verify=VerifyDefault):\n",
    "\n",
    "        self.N = N               # Alfabetul Neterminalilor\n",
    "        self.T = Sigma           # Alfabetul   Terminalelor\n",
    "        self.S = S               # Simbolul de start\n",
    "        self.P = P.copy()        # Multimea de Productii\n",
    "        self.isLambda = isLambda # Daca acest GIC este accepta \n",
    "\n",
    "        self.updateElements()\n",
    "        \n",
    "        if verify: # validarea \n",
    "            assert self.S in self.N, \"Simbolul de start nu este Neterminal\"\n",
    "            _, ind = np.unique(self.N, return_counts=True)\n",
    "            assert (ind == 1).all(), \"Alfabetul Neterminalilor nu este o multime\"\n",
    "            _, ind = np.unique(self.N, return_counts=True)\n",
    "            assert (ind == 1).all(), \"Alfabetul Terminalilor nu este o multime\"\n",
    "            assert len(np.intersect1d(self.N, self.T, assume_unique=True)) == 0, \"Intersectia Alfabetului Neterminalilor si Terminalilor nu este vid\"\n",
    "\n",
    "            for key, val in self.P.items():\n",
    "                assert key in self.N and np.isin(np.concatenate(val), self.elems).all(), 'Multimea de productii nu este valida'\n",
    "\n",
    "    def updateElements(self):\n",
    "        self.elems = np.concatenate((self.N, self.T, [self.LAMBDA, self.LAMBDAF]) if self.isLambda else (self.N, self.T, [self.LAMBDAF]))\n",
    "        return self\n",
    "\n",
    "    def _FirstRec(self, k, word, curr=[], ret=[], toPrint=False):\n",
    "\n",
    "        if len(word) < 1 or k == 0: \n",
    "            if toPrint: print('-', ''.join(curr))\n",
    "            return ret + [curr]\n",
    "\n",
    "        if word[0] == self.LAMBDA:\n",
    "            return self._FirstRec(k, word[1:], curr+[self.LAMBDA], ret, toPrint) # ignoram simbolul LAMBDA\n",
    "\n",
    "        newV = self.P.get(word[0], [])\n",
    "\n",
    "        if len(newV) < 1: # Terminal\n",
    "            return self._FirstRec(k-1, word[1:], curr+[word[0]], ret, toPrint)\n",
    "\n",
    "        # Neterminal\n",
    "        words = [v + word[1:] for v in newV]\n",
    "        output = []\n",
    "        if toPrint: print(f'Frs {k}', ''.join(curr+word), list(map(lambda x: ''.join(curr+x), words)))\n",
    "        for w in words:\n",
    "            ret = self._FirstRec(k,w,curr,ret, toPrint)\n",
    "        return ret\n",
    "\n",
    "    def First(self, k, word, toPrint=False, verify=VerifyDefault, Following=False):\n",
    "        if k == 0: return [self.LAMBDA]\n",
    "        assert k > 0, 'Nu poti avea numar negativ de litere'\n",
    "        if verify:\n",
    "            assert np.isin(word, self.elems).all(), f'Nu toate literele cuvantului sunt din vocabular: {word}'\n",
    "        \n",
    "        output = self._FirstRec(k, word, toPrint=toPrint)\n",
    "\n",
    "        # if Following: return output\n",
    "\n",
    "        output = list(map(lambda x: ''.join(x), output))\n",
    "\n",
    "        if toPrint: print('\\n', output, sep='')\n",
    "\n",
    "        return list(np.unique(output)) if not Following else output\n",
    "\n",
    "    \n",
    "    def FirstAll(self, k=1, toPrint=False, verify=VerifyDefault):\n",
    "        d = {}\n",
    "        for n in self.N:\n",
    "            d[n] = self.First(k=k, word=[n], toPrint=toPrint, verify=verify)\n",
    "        return d\n",
    "\n",
    "    def FollowAll(self, k=1):\n",
    "        Follow = {}\n",
    "        NBool = {self.LAMBDA: False, self.LAMBDAF:False}\n",
    "        for n in self.N:\n",
    "            Follow[n] = []\n",
    "            NBool[n] = True\n",
    "        for n in self.T:\n",
    "            NBool[n] = False\n",
    "        Follow['S'] = [self.LAMBDAF]\n",
    "        stillAdding = True\n",
    "\n",
    "        iteration = 0\n",
    "        while True:\n",
    "            iteration += 1\n",
    "            stillAdding = False\n",
    "            for A, allProds in self.P.items():\n",
    "                for prod in allProds:\n",
    "                    for idx, B in enumerate(prod):\n",
    "                        if NBool[B]:\n",
    "                            oldFollowB = Follow[B]\n",
    "                            toAddFollowB = []\n",
    "                            for w in Follow[A]:\n",
    "                                word = prod[idx+1:] + list(w)\n",
    "                                rez = self.First(k=k, word=word, Following=True, verify=True)\n",
    "                                toAddFollowB.extend(rez)\n",
    "                            if len(toAddFollowB) < 1: continue\n",
    "                            newFollowB = np.union1d(oldFollowB, toAddFollowB)\n",
    "                            if (len(newFollowB) > len(oldFollowB)):\n",
    "                                Follow[B] = newFollowB\n",
    "                                stillAdding = True\n",
    "            \n",
    "            if not stillAdding: break\n",
    "\n",
    "            print('Iteration', iteration)\n",
    "            pprint(Follow)       \n",
    "            print('')\n",
    "\n",
    "\n",
    "        # return Follow\n",
    "    \n",
    "    def ElimRecStIm(self, A):  # ELIMINAREA RECURSIVITĂȚII LA STÂNGA IMEDIATE\n",
    "        A_ = A + \"'\"\n",
    "        tr_A = []  # noile productii de la A\n",
    "        tr_A_ = []  # viitoarele productii de la A'\n",
    "        productii = self.P.get(A)\n",
    "        for productie in productii:\n",
    "            if productie[0] == A:  # caz de recursivitate imediata\n",
    "                tr_A.append(productie[1:] + [A_])\n",
    "            else:\n",
    "                tr_A_.append(productie + [A_])\n",
    "        tr_A_.append([LAMBDA])\n",
    "\n",
    "        if len(tr_A) < 1 or len(tr_A_) < 1:\n",
    "            return\n",
    "\n",
    "        self.P[A] = tr_A\n",
    "        self.P[A_] = tr_A_\n",
    "        self.N.append(A_)\n",
    "\n",
    "    def ElimRecSt(self):  # ELIMINAREA RECURSIVITĂȚII LA STÂNGA\n",
    "        N = list(self.P.keys())\n",
    "        for Ai in N:\n",
    "            for Aj in N:\n",
    "                if Aj == Ai:\n",
    "                    break\n",
    "\n",
    "                productii = self.P[Ai]\n",
    "                for productie in productii:\n",
    "                    if productie[0] == Aj:\n",
    "                        self.P[Ai] = [[delta] + productie[1:] for delta in self.P[Aj]]\n",
    "            \n",
    "            self.ElimRecStIm(Ai)\n",
    "        self.updateElements()\n",
    "    \n",
    "    def FactSt(self):\n",
    "        N = list(self.P.keys())\n",
    "        i = -1\n",
    "        while True:\n",
    "            i += 1\n",
    "            if i >= len(N):\n",
    "                break\n",
    "            \n",
    "            A = N[i]\n",
    "\n",
    "            while True:\n",
    "                productii = self.P[A]\n",
    "                mx, prefix = MaxPrefix(productii, 0, 0)\n",
    "                if mx < 1:\n",
    "                    break\n",
    "\n",
    "                gamma = []  # productiile care nu au prefixul gasit\n",
    "\n",
    "                A_ = A + \"'\"  # gasim urmatoarea notatie disponibila\n",
    "                while True:\n",
    "                    if A_ not in self.P:\n",
    "                        break\n",
    "                    A_ = A_ + \"'\"\n",
    "\n",
    "                prod_A_ = []\n",
    "                for productie in productii:\n",
    "                    if productie[:mx] == prefix:\n",
    "                        prod_A_.append(productie[mx:] or [''])\n",
    "                    else:\n",
    "                        gamma.append(productie)\n",
    "                \n",
    "                self.P[A] = [prefix + [A_]] + gamma\n",
    "                self.P[A_] = prod_A_\n",
    "                self.N.append(A_)\n",
    "                N.append(A_)\n",
    "        self.updateElements()"
   ]
  },
  {
   "cell_type": "code",
   "execution_count": 2,
   "metadata": {},
   "outputs": [
    {
     "output_type": "execute_result",
     "data": {
      "text/plain": [
       "['aa', 'aaa', 'aab', 'bbb', 'bbc', 'bca']"
      ]
     },
     "metadata": {},
     "execution_count": 2
    }
   ],
   "source": [
    "# Seminar 4: Ex1. a)\n",
    "\n",
    "# Se da gramatica:\n",
    "LAMBDA = GIC.LAMBDA\n",
    "N = ['S', 'A']\n",
    "T = ['a', 'b', 'c']\n",
    "P = {\n",
    "    'S': [['a', 'S', 'b', 'S'], ['a', 'A']],\n",
    "    'A': [['b', 'A', 'c'], [LAMBDA]]\n",
    "}\n",
    "G = GIC (N, T, P)\n",
    "\n",
    "# Sa se calculeze First3 (AaS)\n",
    "G.First(k=3, word=['A', 'a', 'S'])"
   ]
  },
  {
   "cell_type": "code",
   "execution_count": 3,
   "metadata": {},
   "outputs": [
    {
     "output_type": "execute_result",
     "data": {
      "text/plain": [
       "{'S': ['', 'a', 'b', 'd', 'g', 'h'],\n",
       " 'A': ['', 'd', 'g', 'h'],\n",
       " 'B': ['', 'g'],\n",
       " 'C': ['', 'h']}"
      ]
     },
     "metadata": {},
     "execution_count": 3
    }
   ],
   "source": [
    "# Example First: https://www.geeksforgeeks.org/first-set-in-syntax-analysis/\n",
    "\n",
    "LAMBDA = GIC.LAMBDA\n",
    "N = ['S', 'A', 'B', 'C']\n",
    "T = ['a', 'b', 'd', 'g', 'h']\n",
    "P = {\n",
    "    'S': [['A', 'B', 'C'], ['C', 'b', 'b'], ['B', 'a']],\n",
    "    'A': [['d', 'a'], ['B', 'C']],\n",
    "    'B': [['g'], [LAMBDA]],\n",
    "    'C': [['h'], [LAMBDA]]\n",
    "}\n",
    "\n",
    "G = GIC (N, T, P)\n",
    "\n",
    "G.FirstAll()"
   ]
  },
  {
   "cell_type": "code",
   "execution_count": 4,
   "metadata": {},
   "outputs": [
    {
     "output_type": "stream",
     "name": "stdout",
     "text": [
      "Iteration 1\n{'B': array(['f', 'g', 'h'], dtype='<U32'),\n 'C': array(['f', 'g', 'h'], dtype='<U32'),\n 'D': array(['h'], dtype='<U32'),\n 'E': array(['f', 'h'], dtype='<U32'),\n 'F': array(['h'], dtype='<U32'),\n 'S': ['#']}\n\n"
     ]
    }
   ],
   "source": [
    "# Exemplu 2 https://www.geeksforgeeks.org/follow-set-in-syntax-analysis/?ref=lbp\n",
    "\n",
    "LAMBDA = GIC.LAMBDA\n",
    "N = ['S', 'B', 'C', 'D', 'E', 'F']\n",
    "T = ['a', 'b', 'c', 'f', 'g', 'h']\n",
    "P = {\n",
    "    'S': [['a', 'B', 'D', 'h']],\n",
    "    'B': [['c', 'C']],\n",
    "    'C': [['b', 'C'], [LAMBDA]],\n",
    "    'D': [['E', 'F']],\n",
    "    'E': [['g'], [LAMBDA]],\n",
    "    'F': [['f'], [LAMBDA]]\n",
    "}\n",
    "\n",
    "G = GIC (N, T, P)\n",
    "G.FollowAll()"
   ]
  },
  {
   "cell_type": "code",
   "execution_count": 5,
   "metadata": {},
   "outputs": [
    {
     "output_type": "stream",
     "name": "stdout",
     "text": [
      "Iteration 1\n{'A': array(['#', 'g', 'h'], dtype='<U32'),\n 'B': array(['#', 'a', 'g', 'h'], dtype='<U32'),\n 'C': array(['#', 'b', 'g', 'h'], dtype='<U32'),\n 'S': ['#']}\n\n"
     ]
    }
   ],
   "source": [
    "# Exemplu 3 https://www.geeksforgeeks.org/follow-set-in-syntax-analysis/?ref=lbp\n",
    "\n",
    "LAMBDA = GIC.LAMBDA\n",
    "N = ['S', 'A', 'B', 'C']\n",
    "T = ['a', 'b', 'd', 'g', 'h']\n",
    "P = {\n",
    "    'S': [['A','C','B'], ['C','b','b'], ['B','a']],\n",
    "    'A': [['d','a'], ['B','C']],\n",
    "    'B': [['g'], [LAMBDA]],\n",
    "    'C': [['h'], [LAMBDA]],\n",
    "}\n",
    "\n",
    "G = GIC (N, T, P)\n",
    "G.FollowAll()"
   ]
  },
  {
   "cell_type": "code",
   "execution_count": 6,
   "metadata": {},
   "outputs": [
    {
     "output_type": "stream",
     "name": "stdout",
     "text": [
      "Iteration 1\n{'A': array(['c#', 'cb', 'cc'], dtype='<U32'),\n 'B': array(['#', 'b#', 'ca'], dtype='<U32'),\n 'S': array(['#', 'b#', 'c#', 'ca', 'cb', 'cc'], dtype='<U2')}\n\nIteration 2\n{'A': array(['c#', 'cb', 'cc'], dtype='<U32'),\n 'B': array(['#', 'b#', 'bb', 'bc', 'c#', 'ca', 'cb', 'cc'], dtype='<U32'),\n 'S': array(['#', 'b#', 'bb', 'bc', 'c#', 'ca', 'cb', 'cc'], dtype='<U2')}\n\n"
     ]
    }
   ],
   "source": [
    "# Seminar 4: Ex1. b)\n",
    "\n",
    "LAMBDA = GIC.LAMBDA\n",
    "LAMBDAF = GIC.LAMBDAF\n",
    "N = ['S', 'A', 'B']\n",
    "T = ['a', 'b', 'c']\n",
    "P = {\n",
    "    'S': [['a', 'S', 'B'], ['a', 'A', 'c']],\n",
    "    'A': [['b', 'A', 'c'], [LAMBDA]],\n",
    "    'B': [['c', 'S', 'c'], ['b']]\n",
    "}\n",
    "\n",
    "G = GIC (N, T, P)\n",
    "G.FollowAll(k=2)"
   ]
  },
  {
   "cell_type": "code",
   "execution_count": 9,
   "metadata": {},
   "outputs": [
    {
     "output_type": "stream",
     "name": "stdout",
     "text": [
      "{'A': [['c', \"A'\"]],\n \"A'\": [['', \"A'\"], ['']],\n 'S': [['b', 'S', \"S'\"]],\n \"S'\": [['a', 'A', \"S'\"], ['']]}\nIteration 1\n{'A': array(['#', 'ac'], dtype='<U32'),\n \"A'\": [],\n 'S': array(['#', 'ac'], dtype='<U2'),\n \"S'\": array(['#', 'ac'], dtype='<U32')}\n\nIteration 2\n{'A': array(['#', 'ac'], dtype='<U32'),\n \"A'\": array(['#', 'ac'], dtype='<U32'),\n 'S': array(['#', 'ac'], dtype='<U2'),\n \"S'\": array(['#', 'ac'], dtype='<U32')}\n\n"
     ]
    }
   ],
   "source": [
    "# Eliminare recurenta stanga\n",
    "\n",
    "LAMBDA = GIC.LAMBDA\n",
    "N = ['S', 'A']\n",
    "T = ['a', 'b', 'c']\n",
    "P = {\n",
    "    'S': [['S', 'b', 'S'], ['a', 'A']],\n",
    "    'A': [['A', 'c'], [LAMBDA]]\n",
    "}\n",
    "G = GIC (N, T, P)\n",
    "\n",
    "G.ElimRecSt()\n",
    "pprint(G.P)\n",
    "\n",
    "G.FollowAll(k=2)"
   ]
  },
  {
   "cell_type": "code",
   "execution_count": 8,
   "metadata": {},
   "outputs": [
    {
     "output_type": "stream",
     "name": "stdout",
     "text": [
      "{'A': [['b', 'A', 'c'], ['']],\n 'S': [['b', 'c', \"S''\"], ['a', 'A', \"S'\"]],\n \"S'\": [['b', 'S'], ['']],\n \"S''\": [[''], ['A']]}\n"
     ]
    },
    {
     "output_type": "execute_result",
     "data": {
      "text/plain": [
       "['S', 'A', \"S'\", \"S''\"]"
      ]
     },
     "metadata": {},
     "execution_count": 8
    }
   ],
   "source": [
    "# Factorizare stanga\n",
    "\n",
    "LAMBDA = GIC.LAMBDA\n",
    "N = ['S', 'A']\n",
    "T = ['a', 'b', 'c']\n",
    "P = {\n",
    "    'S': [['a', 'A', 'b', 'S'], ['a', 'A'], ['b', 'c'], ['b', 'c', 'A']],\n",
    "    'A': [['b', 'A', 'c'], [LAMBDA]]\n",
    "}\n",
    "G = GIC (N, T, P)\n",
    "\n",
    "G.FactSt()\n",
    "pprint(G.P)\n",
    "G.N"
   ]
  },
  {
   "cell_type": "code",
   "execution_count": null,
   "metadata": {},
   "outputs": [],
   "source": []
  },
  {
   "cell_type": "code",
   "execution_count": null,
   "metadata": {},
   "outputs": [],
   "source": []
  }
 ]
}