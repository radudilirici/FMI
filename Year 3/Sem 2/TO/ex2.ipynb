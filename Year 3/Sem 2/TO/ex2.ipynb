{
 "cells": [
  {
   "cell_type": "markdown",
   "metadata": {},
   "source": [
    "### Inversa unei matrice"
   ]
  },
  {
   "cell_type": "code",
   "execution_count": 1,
   "metadata": {},
   "outputs": [],
   "source": [
    "import numpy as np"
   ]
  },
  {
   "cell_type": "code",
   "execution_count": 18,
   "metadata": {},
   "outputs": [],
   "source": [
    "def inverse(A):\n",
    "    n = len(A)\n",
    "    A_ext = np.concatenate((A, np.identity(3)), axis=1)\n",
    "    for j in range(n):\n",
    "        A_ext[j] /= A_ext[j, j]\n",
    "        for i in range(n):\n",
    "            if i == j:\n",
    "                continue\n",
    "            A_ext[i] -= A_ext[i, j] * A_ext[j]\n",
    "    return A_ext[:, n:]"
   ]
  },
  {
   "cell_type": "code",
   "execution_count": 19,
   "metadata": {},
   "outputs": [],
   "source": [
    "A = np.array([[1., 0., 0.],\n",
    "              [0., 7., 0.],\n",
    "              [0., 0., 1.]])"
   ]
  },
  {
   "cell_type": "code",
   "execution_count": 20,
   "metadata": {},
   "outputs": [
    {
     "output_type": "execute_result",
     "data": {
      "text/plain": [
       "array([[1.        , 0.        , 0.        ],\n",
       "       [0.        , 0.14285714, 0.        ],\n",
       "       [0.        , 0.        , 1.        ]])"
      ]
     },
     "metadata": {},
     "execution_count": 20
    }
   ],
   "source": [
    "A_ = inverse(A)\n",
    "A_"
   ]
  },
  {
   "cell_type": "markdown",
   "metadata": {},
   "source": [
    "### Lema substitutiei\n",
    "\n",
    "inlocuim coloana a 2-a cu c"
   ]
  },
  {
   "cell_type": "code",
   "execution_count": 21,
   "metadata": {},
   "outputs": [
    {
     "output_type": "stream",
     "name": "stdout",
     "text": [
      "[-49.0, 7.0, -49.0]\nEk(eta):\n[[  1. -49.   0.]\n [  0.   7.   0.]\n [  0. -49.   1.]]\n"
     ]
    }
   ],
   "source": [
    "c = [[7.], [1.], [7.]]\n",
    "y = A_ @ c\n",
    "eta = [-y[0][0] / y[1][0], 1 / y[1][0], -y[2][0] / y[1][0]]\n",
    "Ek = np.array([[1, eta[0], 0],\n",
    "               [0, eta[1], 0],\n",
    "               [0, eta[2], 1]])\n",
    "print(eta)\n",
    "print('Ek(eta):')\n",
    "print(Ek)"
   ]
  },
  {
   "cell_type": "code",
   "execution_count": 22,
   "metadata": {},
   "outputs": [
    {
     "output_type": "stream",
     "name": "stdout",
     "text": [
      "Inversa lui A2:\n[[ 1. -7.  0.]\n [ 0.  1.  0.]\n [ 0. -7.  1.]]\nInversa cu lema substitutiei:\n[[ 1. -7.  0.]\n [ 0.  1.  0.]\n [ 0. -7.  1.]]\n"
     ]
    }
   ],
   "source": [
    "A2 = np.array([[1., 7., 0.],\n",
    "               [0., 1., 0.],\n",
    "               [0., 7., 1.]])\n",
    "print('Inversa lui A2:')\n",
    "print(inverse(A2))\n",
    "\n",
    "A2_ = Ek @ A_\n",
    "print('Inversa cu lema substitutiei:')\n",
    "print(A2_)"
   ]
  },
  {
   "cell_type": "code",
   "execution_count": null,
   "metadata": {},
   "outputs": [],
   "source": []
  },
  {
   "cell_type": "code",
   "execution_count": null,
   "metadata": {},
   "outputs": [],
   "source": []
  }
 ],
 "metadata": {
  "kernelspec": {
   "name": "python385jvsc74a57bd0c797431530856503b145a877edaf88dfe7bc8ed6913788d2add08f9a304fda4b",
   "display_name": "Python 3.8.5 64-bit ('base': conda)"
  },
  "language_info": {
   "codemirror_mode": {
    "name": "ipython",
    "version": 3
   },
   "file_extension": ".py",
   "mimetype": "text/x-python",
   "name": "python",
   "nbconvert_exporter": "python",
   "pygments_lexer": "ipython3",
   "version": "3.8.5"
  },
  "metadata": {
   "interpreter": {
    "hash": "5be06135cf5fcf941f03afc184e0dae2796b0756fb4fd23805b6693c57e5f2b7"
   }
  }
 },
 "nbformat": 4,
 "nbformat_minor": 4
}